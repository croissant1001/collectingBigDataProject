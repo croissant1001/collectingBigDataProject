{
  "nbformat": 4,
  "nbformat_minor": 0,
  "metadata": {
    "colab": {
      "name": "collecting data assignment.ipynb",
      "provenance": [],
      "toc_visible": true
    },
    "kernelspec": {
      "name": "python3",
      "display_name": "Python 3"
    },
    "language_info": {
      "name": "python"
    }
  },
  "cells": [
    {
      "cell_type": "markdown",
      "metadata": {
        "id": "CaTXptkXnuwB"
      },
      "source": [
        "# Collecting data Report\n",
        "Ran Huo r0817066"
      ]
    },
    {
      "cell_type": "markdown",
      "metadata": {
        "id": "plh14V7Vn0wd"
      },
      "source": [
        "## Introduction\n",
        "Using a data set from a camera reviewing website, models between reviewing words and the overall score of the cameras are built.\n"
      ]
    },
    {
      "cell_type": "markdown",
      "metadata": {
        "id": "_2Su8GHBzdeA"
      },
      "source": [
        "## Get Data\n",
        "DXOMARK IMAGE LABS is a private French engineering company which specialize in the measurement of camera, audio, display and battery quality of all types of consumer electronics. \n",
        "Here I collect the data of the cameras from their website [www.dxomark.com/Cameras](https://www.dxomark.com/Cameras/)"
      ]
    },
    {
      "cell_type": "code",
      "metadata": {
        "id": "oei2gYpwfN-8"
      },
      "source": [
        "import numpy as np\n",
        "import pandas as pd\n",
        "import requests\n",
        "import json"
      ],
      "execution_count": 195,
      "outputs": []
    },
    {
      "cell_type": "code",
      "metadata": {
        "id": "QTDjtQ1Ftkd-"
      },
      "source": [
        "from requests_html import HTMLSession\n",
        "\n",
        "session = HTMLSession()\n",
        "url = 'https://www.dxomark.com/Cameras/'\n",
        "r = session.get(url)\n",
        "r.status_code"
      ],
      "execution_count": null,
      "outputs": []
    },
    {
      "cell_type": "code",
      "metadata": {
        "colab": {
          "base_uri": "https://localhost:8080/"
        },
        "id": "lFVJ-8rLjW9m",
        "outputId": "5fce7522-943f-431a-b6b5-c44a974c287c"
      },
      "source": [
        "print(r.html.text)"
      ],
      "execution_count": null,
      "outputs": [
        {
          "output_type": "stream",
          "text": [
            "Sensors Database - DxOMark\n",
            "(function(html){html.className = html.className.replace(/\\bno-js\\b/,'js')})(document.documentElement);\n",
            "/* <![CDATA[ */ var cnArgs = {\"ajaxUrl\":\"https:\\/\\/www.dxomark.com\\/wp-admin\\/admin-ajax.php\",\"nonce\":\"656d22d810\",\"hideEffect\":\"fade\",\"position\":\"bottom\",\"onScroll\":\"0\",\"onScrollOffset\":\"100\",\"onClick\":\"0\",\"cookieName\":\"cookie_notice_accepted\",\"cookieTime\":\"2592000\",\"cookieTimeRejected\":\"2592000\",\"cookiePath\":\"\\/\",\"cookieDomain\":\"\",\"redirection\":\"0\",\"cache\":\"0\",\"refuse\":\"1\",\"revokeCookies\":\"0\",\"revokeCookiesOpt\":\"automatic\",\"secure\":\"1\",\"coronabarActive\":\"0\"}; /* ]]> */ /* <![CDATA[ */ var cmtt_data = {\"tooltip\":{\"clickable\":0,\"top\":3,\"left\":23,\"endalpha\":95,\"borderStyle\":\"none\",\"borderWidth\":\"0px\",\"borderColor\":\"#000\",\"fontSize\":\"13px\",\"padding\":\"2px 12px 3px 7px\",\"borderRadius\":\"6px\"},\"ajaxurl\":\"https:\\/\\/www.dxomark.com\\/wp-admin\\/admin-ajax.php\"}; /* ]]> */ /* <![CDATA[ */ var wpml_xdomain_data = {\"css_selector\":\"wpml-ls-item\",\"ajax_url\":\"https:\\/\\/www.dxomark.com\\/wp-admin\\/admin-ajax.php\",\"current_lang\":\"en\"}; /* ]]> */ { \"@context\": \"http://schema.org\", \"@type\": \"Organization\", \"name\": \"DxOMark\", \"url\": \"https://www.dxomark.com\", \"logo\": \"https://cdn.dxomark.com/wp-content/uploads/2018/10/dxomark-social-logo.jpg\", \"sameAs\": [ \"http://www.facebook.com/pages/DxOMark/213142635378983?sk=wall\", \"http://twitter.com/dxomark/\", \"https://www.youtube.com/channel/UCjVn8ZMN6k8uZ-QP5RUj-vQ\", \"https://fr.linkedin.com/company/dxomark-image-labs\" ] } { \"@context\": \"http://schema.org\", \"@type\": \"WebSite\", \"name\": \"DxOMark\", \"alternateName\": \"\", \"url\": \"https://www.dxomark.com\" } { \"@context\": \"http://schema.org\", \"@type\": \"Organization\", \"name\": \"DxOMark\", \"url\": \"https://www.dxomark.com\", \"logo\": \"https://cdn.dxomark.com/wp-content/uploads/2018/10/dxomark-social-logo.jpg\", \"sameAs\": [ \"http://www.facebook.com/pages/DxOMark/213142635378983?sk=wall\", \"http://twitter.com/dxomark/\", \"https://www.youtube.com/channel/UCjVn8ZMN6k8uZ-QP5RUj-vQ\", \"https://fr.linkedin.com/company/dxomark-image-labs\" ] } if ((document.cookie.match( /^(?:.*;)?\\s*cookie_notice_accepted\\s*=\\s*([^;]+)(?:.*)?$/)||[,null])[1] != 'false') { (function(i,s,o,g,r,a,m){i['GoogleAnalyticsObject']=r;i[r]=i[r]||function(){ (i[r].q=i[r].q||[]).push(arguments)},i[r].l=1*new Date();a=s.createElement(o), m=s.getElementsByTagName(o)[0];a.async=1;a.src=g;m.parentNode.insertBefore(a,m) })(window,document,'script','https://www.google-analytics.com/analytics.js','ga'); ga('create', 'UA-5340360-1', 'auto'); ga('set', 'contentGroup1', 'DXOMARK'); ga('send', 'pageview'); function _gaLt(event) { /* If GA is blocked or not loaded, or not main|middle|touch click then don't track */ if (!ga.hasOwnProperty('loaded') || ga.loaded != true || (event.which != 1 && event.which != 2)) { return; } var el = event.srcElement || event.target; /* Loop up the DOM tree through parent elements if clicked element is not a link (eg: an image inside a link) */ while (el && (typeof el.tagName == 'undefined' || el.tagName.toLowerCase() != 'a' || !el.href)) { el = el.parentNode; } /* if a link with valid href has been clicked */ if (el && el.href) { var link = el.href; /* Only if it is an external link */ if (link.indexOf(location.host) == -1 && link.indexOf('cdn.dxomark.com') == -1 && !link.match(/^javascript\\:/i)) { /* Is actual target set and not _(self|parent|top)? */ var target = (el.target && !el.target.match(/^_(self|parent|top)$/i)) ? el.target : false; /* Assume a target if Ctrl|shift|meta-click */ if (event.ctrlKey || event.shiftKey || event.metaKey || event.which == 2) { target = '_blank'; } var hbrun = false; // tracker has not yet run /* HitCallback to open link in same window after tracker */ var hitBack = function() { /* run once only */ if (hbrun) return; hbrun = true; window.location.href = link; }; var label = el.textContent || el.innerText || ''; if (target) { /* If target opens a new window then just track */ ga( 'send', 'event', 'Outgoing Links', link, label ); } else { /* Prevent standard click, track then open */ event.preventDefault ? event.preventDefault() : event.returnValue = !1; /* send event with callback */ ga( 'send', 'event', 'Outgoing Links', link, label, { 'hitCallback': hitBack } ); /* Run hitCallback again if GA takes longer than 1 second */ setTimeout(hitBack, 1000); } } } } var _w = window; /* Use 'click' if touchscreen device, else 'mousedown' */ var _gaLtEvt = ('ontouchstart' in _w) ? 'click' : 'mousedown'; /* Attach the event to all clicks in the document after page has loaded */ _w.addEventListener ? _w.addEventListener('load', function() {document.body.addEventListener(_gaLtEvt, _gaLt, !1)}, !1) : _w.attachEvent && _w.attachEvent('onload', function() {document.body.attachEvent('on' + _gaLtEvt, _gaLt)}); } jQuery(function($){ $(document).ready(function() { $('#cn-accept-cookie').click(function(){ ga('send', { hitType: 'event', eventCategory: 'Cookies', eventAction: 'Accept', eventLabel: 'Accept Cookies' }); }); $('#cn-refuse-cookie').click(function(){ ga('send', { hitType: 'event', eventCategory: 'Cookies', eventAction: 'Decline', eventLabel: 'Decline Cookies' }); }); $('.smartphones-ranking #ranking-brand-filter').click(function(){ ga('send', { hitType: 'event', eventCategory: 'Smartphone Ranking Filters', eventAction: 'Filter Use', eventLabel: 'Brand Filter' }); }); $('.smartphones-ranking #ranking-price-filter').click(function(){ ga('send', { hitType: 'event', eventCategory: 'Smartphone Ranking Filters', eventAction: 'Filter Use', eventLabel: 'Price Filter' }); }); $('.smartphones-ranking #ranking-date-filter').click(function(){ ga('send', { hitType: 'event', eventCategory: 'Smartphone Ranking Filters', eventAction: 'Filter Use', eventLabel: 'Date Filter' }); }); $('.speakers-ranking #ranking-brand-filter').click(function(){ ga('send', { hitType: 'event', eventCategory: 'Speaker Ranking Filters', eventAction: 'Filter Use', eventLabel: 'Brand Filter' }); }); $('.speakers-ranking #ranking-price-filter').click(function(){ ga('send', { hitType: 'event', eventCategory: 'Speaker Ranking Filters', eventAction: 'Filter Use', eventLabel: 'Price Filter' }); }); $('.speakers-ranking #ranking-date-filter').click(function(){ ga('send', { hitType: 'event', eventCategory: 'Speaker Ranking Filters', eventAction: 'Filter Use', eventLabel: 'Date Filter' }); }); $('.ranking-position .more').click(function(){ ga('send', { hitType: 'event', eventCategory: 'Review Rankings Expand', eventAction: 'Show More', eventLabel: 'Ranking Expand' }); }); $('.smartphones .sort-header').click(function(){ let sortColumn = ''; if ($(this).hasClass('mobile')) { sortColumn = 'Camera'; } else if ($(this).hasClass('selfie')) { sortColumn = 'Selfie'; } else if ($(this).hasClass('audio')) { sortColumn = 'Audio'; } else if ($(this).hasClass('display')) { sortColumn = 'Display'; } else if ($(this).hasClass('battery')) { sortColumn = 'Battery'; } else if ($(this).hasClass('launch_date')) { sortColumn = 'Date'; } else if ($(this).hasClass('launch_price')) { sortColumn = 'Price'; } ga('send', { hitType: 'event', eventCategory: 'Smartphone Ranking Sort', eventAction: 'Sort by Protocol', eventLabel: sortColumn + ' Sort' }); }); $('.speakers .sort-header').click(function(){ let sortColumn = ''; if ($(this).hasClass('launch_date')) { sortColumn = 'Date'; } else if ($(this).hasClass('launch_price')) { sortColumn = 'Price'; } ga('send', { hitType: 'event', eventCategory: 'Speaker Ranking Sort', eventAction: 'Sort by Protocol', eventLabel: sortColumn + ' Sort' }); }); }); }); var cdn = \"https://cdn.dxomark.com\";\n",
            ".bg{opacity: 0; transition: opacity 1s; -webkit-transition: opacity 1s;} .bg-loaded{opacity: 1;}\n",
            "/* You can add your own CSS here. Click the help icon above to learn more. */ #post-16072 .entry-image { display: none; }\n",
            ".mfp-wrap { font-size: initial; } header.header.transparent { position: inherit; } header, footer { display: block; margin: unset; font-size: initial; color: #777; scroll-behavior: smooth; -webkit-font-smoothing: antialiased; -moz-osx-font-smoothing: grayscale; line-height: 1.6; border-top: none; } #footer { width: 100%; padding: 0; font-size: initial; } #footer .post_comments { display: none; } header .container, header .row, footer .container, footer .row { } @media screen and (max-width: 1224px) { header .container, header .row, footer .container, footer .row { } } .nav-dark .nav>li>a:hover, .nav-dark .nav>li>a:focus { background: transparent; } li.current-dropdown.has-dropdown:before, li.current-dropdown.has-dropdown:after { transition: opacity .25s; opacity: 1; } li.has-dropdown:after, li.has-dropdown:before { bottom: -2px; z-index: 10; opacity: 0; left: 50%; border: solid transparent; content: ''; height: 0; width: 0; position: absolute; pointer-events: none; } li.has-dropdown:after { border-color: rgba(221,221,221,0); border-bottom-color: #fff; border-width: 8px; margin-left: -8px; } li.has-dropdown:before { z-index: -999; border-bottom-color: #ddd; border-width: 11px; margin-left: -11px; } .header-wrapper.stuck, .header-shadow .header-wrapper, .layout-shadow #wrapper { box-shadow: 1px 1px 10px rgba(0,0,0,0.15); } .sticky-jump .stuck { animation: stuckMoveDown .6s; } .stuck { top: 0; position: fixed; left: 0; right: 0; margin: 0 auto; z-index: 10; } .descriptif_header h3 { margin-bottom: 0; }\n",
            ".pointCloudFilter .filterBoxWrapper { margin: 0 auto 33px; width: 1032px; display: flex; box-shadow: none; } #main { font-size: 12px; } #main h1 { margin: 0; color: #001840; font-weight: normal; font-size: 30px; } #main h2 { margin-left: 0; margin-bottom: 0; } #main .no-padding-bottom { padding-bottom: 0; } #pointCloudResult { width: 100%; } #pointCloudResult #pointCloudResultBody { width: 100%; overflow: scroll; } #pointCloudResult #pointCloudResultHeader { width: 100%; } #pointCloudResult #pointCloudResultBody #pointCloudResultList .odd td.model, #pointCloudResult #pointCloudResultBody #pointCloudResultList .odd td.image { background-color: #F0F0F0; } #pointCloudResult #pointCloudResultBody #pointCloudResultList .even td.model, #pointCloudResult #pointCloudResultBody #pointCloudResultList .even td.image { background-color: #fff; } .remove-if-empty { padding: 0; } .remove-if-empty .col { padding: 0; } #pointCloudResultHeaderCenter p { display: block; } #pointCloudResult #pointCloudResultBody .pointCloudResultBodyYear .pointCloudResultBodyYearTitle { margin: 0; } #pointCloudResult #pointCloudResultBody .productList .productListLeft { width: 130px; } #pointCloudResult #pointCloudResultBody .pointCloudResultBodyYear hr { opacity: 1; } .productDetail p { margin: 0; } #pointCloudResult #pointCloudResultBody .productDetail { height: 294px; } #pointCloudResult #pointCloudResultBody .pointCloudResultBodyYear { width: 100% !important; } #pointCloudResult #pointCloudResultBody { overflow: auto; } #pointCloudResult #pointCloudResultBody .productDetail .productDetailFooter .productDetailFooterLine .productDetailFooterLineRight { width: 96px; float: right; } .compareCartItemStatus { margin: 0; } .compareCartItemCheckbox input { margin: 0; } tr.tablesorter-filter-row{ display:none; } tr.filtered{ display:none; } @media screen and (max-device-width: 767px) { #pointCloudResult #pointCloudResultBody #pointCloudResultList tbody td.model, #pointCloudResult #pointCloudResultBody #pointCloudResultList thead th.model { left: 0; width: 100px; } #pointCloudResult #pointCloudResultBody #pointCloudResultList thead th.model { background-color: white; } #pointCloudResult #pointCloudResultBody #pointCloudResultList thead th.brand { background-color: white; } #pointCloudResult #pointCloudResultHeader { font-size: 8px; } #pointCloudResult #pointCloudResultHeader #pointCloudResultHeaderLeft #pointCloudResultHeaderByDevice, #pointCloudResult #pointCloudResultHeader #pointCloudResultHeaderRight #pointCloudResultHeaderSortByScore, #pointCloudResult #pointCloudResultHeader #pointCloudResultHeaderRight #pointCloudResultHeaderSortByPrice, #pointCloudResult #pointCloudResultHeader #pointCloudResultHeaderRight #pointCloudResultHeaderStatusTested, #pointCloudResult #pointCloudResultHeader #pointCloudResultHeaderRight #pointCloudResultHeaderStatusPreview { padding-right: 5px; margin-right: 5px; } } #pointCloudResult #pointCloudResultBody .productList { width: 100%; } #pointCloudResult #pointCloudResultBody #pointCloudResultList tbody td.score .scoreCellRanking { display:none; }\n",
            "var DXO_CURRENT_LOCALE = 'en'; var DXO_PATH_PREFIX = \"\"; var DXO_POINT_CLOUD_INTL = { lensDatabase: { thead: { model: 'Model', //\"Model\" price: 'Launch Price', //\"Launch Price\" launchDate: 'Launch Date', //\"Launch Date\" overallScore: 'DXOMARK Score', //\"DxOMark Score\" scoreSharpness: 'Sharpness', //\"Sharpness\" scoreDistortion: 'Distortion', //\"Distortion\" scoreVignetting: 'Vignetting', //\"Vignetting\" scoreTransmission: 'Transmission', //\"Transmission\" scoreAC: 'Chr. aberration', //\"Chr. aberration\" compare: 'Compare', //\"Compare\" }, productDetail: { addToCompare: 'Add', //\"Add\" removeToCompare: 'Remove', //\"Remove\" mountedOn: 'On', //\"On\" }, graph: { mountedOn: 'Mounted on', //\"Mounted on\" bestLenses: 'BEST LENSES', //\"BEST LENSES\" } }, smartphoneDatabase: { thead: { model: 'database_smartphones_thead_model', //\"Model\" mpix: 'database_smartphones_thead_mpix', //\"Mpix\" sensorFormat: 'database_smartphones_thead_sensorFormat', //\"Sensor Format\" price: 'database_smartphones_thead_price', //\"Launch Price\" launchDate: 'database_smartphones_thead_launchDate', //\"Launch Date\" overallScore: 'database_smartphones_thead_overallScore', //\"Overall Score\" scorePortrait: 'database_smartphones_thead_scorePortrait', //\"Portrait\" scoreLandscape: 'database_smartphones_thead_scoreLandscape', //\"Landscape\" scoreSports: 'database_smartphones_thead_scoreSports', //\"Sports\" compare: 'database_smartphones_thead_compare', //\"Compare\" }, productDetail: { addToCompare: 'database_smartphones_product_add', //\"Add\" removeToCompare: 'database_smartphones_product_remove', //\"Remove\" }, compareBlock:{ compareLabel: 'database_smartphones_compare_label', //\"Compare\" PREVIEW: 'database_smartphones_compare_preview', //\"PREVIEW\" TESTED: 'database_smartphones_compare_tested', //\"TESTED\" addMoreSmartphones: 'database_smartphones_compare_addMoreSmartphones', //\"ADD MORE SMARTPHONES\" viewComparison: 'database_smartphones_compare_viewComparison', //\"VIEW COMPARISON\" } }, cameraDatabase: { thead: { model: 'Model', //\"Model\" mpix: 'Mpix', //\"Mpix\" sensorFormat: 'Sensor Format', //\"Sensor Format\" price: 'Launch Price', //\"Launch Price\" launchDate: 'Launch Date', //\"Launch Date\" overallScore: 'Overall Score', //\"Overall Score\" scorePortrait: 'Portrait', //\"Portrait\" scoreLandscape: 'Landscape', //\"Landscape\" scoreSports: 'Sports', //\"Sports\" compare: 'Compare', //\"Compare\" }, productDetail: { addToCompare: 'Add', //\"Add\" removeToCompare: 'Remove', //\"Remove\" }, compareBlock:{ compareLabel: 'Compare', //\"Compare\" PREVIEW: 'PREVIEW', //\"PREVIEW\" TESTED: 'TESTED', //\"TESTED\" addMoreCameras: 'ADD MORE CAMERAS', //\"ADD MORE CAMERAS\" addMoreLenses: 'ADD MORE LENSES', //\"ADD MORE LENSES\" viewComparison: 'VIEW COMPARISON', //\"VIEW COMPARISON\" }, graph: { bestCameras: 'BEST CAMERAS', //\"BEST CAMERAS\" } }, commonList: { review: 'Review', preview: 'Preview', }, commonGraph: { currentSelection: 'IN CURRENT SELECTION', //\"CURRENT SELECTION\" }, commonCompare:{ lensMountedOn: \"Mounted on\", // \"Mounted on\" viewComparison: \"VIEW COMPARISON\", // \"VIEW COMPARISON\" productPage: \"Product page\", // \"Product page\" removeFromCompare: \"Remove from compare\", // \"Remove from compare\" removeFromCompareShort: \"Remove\", // \"Remove\" addToCompare: \"Add to compare\", // \"Add to compare\" addToCompareShort: \"Add\", // \"Add\" reviewLabel: \"Review\", // \"Review\" }, selectLuminance: \"Select luminance\" }; var DXO_CDN = 'https://cdn.dxomark.com'; var DXO_POINT_CLOUD_TYPE = 'camera'; var DXO_CART_TYPE = 'camera';\n",
            "Skip to content\n",
            "English\n",
            "English\n",
            "中文\n",
            "Rankings\n",
            "Smartphones\n",
            "Cameras\n",
            "Lenses\n",
            "Speakers\n",
            "Best of\n",
            "Tech\n",
            "How we test\n",
            "Galleries\n",
            "Videos\n",
            "Smartphones Sensors Lenses Speakers\n",
            "Camera Sensor Rankings\n",
            "DXOMARK’s comprehensive camera test results database allows you to browse and select cameras for comparison, based on sensor characteristics, brand, price, launch date, resolution, sensor format and camera type.\n",
            "Any Brand\n",
            "Canon\n",
            "Nikon\n",
            "Sony\n",
            "Leica\n",
            "Pentax\n",
            "Olympus\n",
            "Samsung\n",
            "Fujifilm\n",
            "Panasonic\n",
            "Phase One\n",
            "Hasselblad\n",
            "Konica Minolta\n",
            "Nokia\n",
            "Leaf\n",
            "Ricoh\n",
            "Mamiya\n",
            "Casio\n",
            "Sigma\n",
            "YI\n",
            "DJI\n",
            "GoPro\n",
            "YUNEEC\n",
            "Any Price\n",
            "to\n",
            "Any Date\n",
            "to\n",
            "Advanced filters Currently no selected advanced filters > Reset filters\n",
            "Resolution (Mpix)\n",
            "Type\n",
            "Compact\n",
            "High-end compact\n",
            "Hybrid\n",
            "Entry-level DSLR\n",
            "Semi-pro DSLR\n",
            "Professional\n",
            "Sensor format\n",
            "1/2.3\"\n",
            "1/1.7\"\n",
            "2/3\"\n",
            "1\"\n",
            "4/3\"\n",
            "APS-C\n",
            "APS-H\n",
            "FF\n",
            "MF\n",
            "COMPARISON SELECTION (3 selected items max.) VIEW COMPARISON ADD MORE\n",
            "With DXOMARK you can display the cameras with three different views - Grid, List or Graph in order for you to have the best solution to compare the filtered results. Choose the cameras you want to compare from the results below. Then in the selection box, you can check up to three cameras at a time to compare their data.\n",
            "> DISPLAY BY DEVICE\n",
            "> DISPLAY BY REVIEW\n",
            "> TESTED\n",
            "> PREVIEW\n",
            "> ALL\n",
            "#pointCloudGraph { position: relative; padding-bottom: 0; } #pointCloudWrap { position: absolute; top: 0; left: calc((100% - 1200px) / 2); width: 1200px; height: 510px; } .dummyGraph { height: 510px; } #pointCloudGraph #pointCloudGraphHeader { background: url(/dakdata/build/images/header-background.86cf5b87.jpg) left top no-repeat #ffffff !important; } @media screen and (max-width: 1200px) { #pointCloudWrap { left: 10px; } #pointCloudGraph { overflow-x: scroll; } }\n",
            "OVERALL SCORE\n",
            "Measures camera performance for a general-purpose use case, based on the combination of three use case scores: Portrait, Landscape and Sports.\n",
            "PORTRAIT\n",
            "Measures in bits the number of colors that the sensor is able to distinguish. More on Portrait Score\n",
            "LANDSCAPE\n",
            "Measures in exposure value (EV) the maximum difference between light and dark details that a sensor can record. More on Landscape Score\n",
            "SPORTS\n",
            "Measures the highest ISO a photographer could use without compromise of image quality. More on Sports Score\n",
            "DISPLAY BY:\n",
            "> LAUNCH DATE\n",
            "> LAUNCH PRICE\n",
            "NO DEVICE FOUND FOR CURRENT FILTERS\n",
            "Our Company\n",
            "FAQ\n",
            "Editorial Team\n",
            "Press Relations\n",
            "Join Us\n",
            "Legal\n",
            "Contact Us\n",
            "Copyright © 2008-2021 DXOMARK. All rights reserved.\n",
            "/* $(document).ready(function() { var refreshFiltersSize = function() { var w = parseInt($('#filterBoxBrandsBody').width()) / 3 + 1; $('.filterBoxBrandsItem.slideshowItem').css('width', w); }; refreshFiltersSize(); $(window).on('resize', refreshFiltersSize); }); */ /* <![CDATA[ */ var flatsomeVars = {\"ajaxurl\":\"https:\\/\\/www.dxomark.com\\/wp-admin\\/admin-ajax.php\",\"rtl\":\"\",\"sticky_height\":\"70\",\"user\":{\"can_edit_pages\":false}}; /* ]]> */ /* <![CDATA[ */ var mc4wp_forms_config = []; /* ]]> */\n",
            "Rankings\n",
            "Smartphones\n",
            "Cameras\n",
            "Lenses\n",
            "Speakers\n",
            "Best of\n",
            "Tech\n",
            "How we test\n",
            "Galleries\n",
            "Videos\n",
            "English\n",
            "English\n",
            "中文\n",
            "/** * We define our custom disqus configs here. This function is invoked from: * /disqus-comment-system/public/js/comment_embed.js by variable `disqus_config_custom` */ var disqus_config = function () { this.language = \"en\"; }; var dxomarkListSmparthonesAPIURL = 'https://cdn.dxomark.com/dakdata/webservices/public/smartphones'; var dxomarkChartsRootURL = 'https://cdn.dxomark.com/assets/src/js/graph'; var dxomarkChartsAPIURLs = { getMobileSpecs: 'https://cdn.dxomark.com/dakdata/graph/smartphone/{mobileId}/protocol/{protocol}-{protocolId}', getMobileWaveData:{ SPEAKER_TIMBRE: 'https://cdn.dxomark.com/dakdata/graph/wave/{mobileId}/speaker/timbre', MICROPHONE_TIMBRE_LIFEVIDEO: 'https://cdn.dxomark.com/dakdata/graph/wave/{mobileId}/microphone/timbre/lifevideo', MICROPHONE_TIMBRE_MEMO: 'https://cdn.dxomark.com/dakdata/graph/wave/{mobileId}/microphone/timbre/memo', MICROPHONE_TIMBRE_SELFIEVIDEO: 'https://cdn.dxomark.com/dakdata/graph/wave/{mobileId}/microphone/timbre/selfievideo', VOLUME_INFLUENCE: 'https://cdn.dxomark.com/dakdata/graph/wave/{mobileId}/volumeInfluence', VOLUME_STEPS: 'https://cdn.dxomark.com/dakdata/graph/wave/{mobileId}/volumeSteps' }, getSpeakerData: { PLAYBACK_TIMBRE: 'https://cdn.dxomark.com/dakdata/graph/speaker/{speakerId}/playback/timbre', PLAYBACK_VOLUME_STEPS: 'https://cdn.dxomark.com/dakdata/graph/speaker/{speakerId}/playback/volume/steps' } }\n",
            "We use cookies and similar technologies to recognize your repeat visits and preferences, and analyze traffic. To learn more about cookies, including how to disable them, view our Cookie Policy. By clicking \"I Accept\" on this banner or using our site, you consent to the use of cookies unless you have disabled them.I AcceptDecline\n"
          ],
          "name": "stdout"
        }
      ]
    },
    {
      "cell_type": "markdown",
      "metadata": {
        "id": "mqycEkRs8YgG"
      },
      "source": [
        "The page of cameras is generated by JS, which mean we can get the list of cameras directly from the html documents. Lukily, with the help of developer tools, I had found the json document used by the JS code. That make the collecting much easier now."
      ]
    },
    {
      "cell_type": "code",
      "metadata": {
        "colab": {
          "base_uri": "https://localhost:8080/"
        },
        "id": "OJMsJ2Uho0RR",
        "outputId": "6170038e-f5c7-48fb-a578-61ece0fc6be1"
      },
      "source": [
        "r = requests.get('https://www.dxomark.com/daksensor/ajax/jsontested?locale=en')\n",
        "search_json = r.json()\n",
        "search_json.keys()\n",
        "search_json['year']\n",
        "data=search_json['data']\n",
        "data[1]"
      ],
      "execution_count": null,
      "outputs": [
        {
          "output_type": "execute_result",
          "data": {
            "text/plain": [
              "{'autofocus': 'no',\n",
              " 'brand': 'Canon',\n",
              " 'chapo': None,\n",
              " 'flash': 'no',\n",
              " 'id': 437,\n",
              " 'image': 'https://cdn.dxomark.com/dakdata/xml/EOS_10D/vignette3.png',\n",
              " 'launchDate': 'Feb. 2003',\n",
              " 'launchDateGraph': '2003-02-27',\n",
              " 'link': '/Cameras/Canon/EOS-10D',\n",
              " 'linkReview': None,\n",
              " 'maximum_iso': 0,\n",
              " 'name': 'Canon EOS 10D',\n",
              " 'pixelDepth': 6.3,\n",
              " 'price': 347,\n",
              " 'rankColor': 21.1,\n",
              " 'rankColor_ranking': 308,\n",
              " 'rankDxo': 57,\n",
              " 'rankDxo_ranking': 286,\n",
              " 'rankDyn': 10.9,\n",
              " 'rankDyn_ranking': 317,\n",
              " 'rankLln': 571,\n",
              " 'rankLln_ranking': 248,\n",
              " 'raw_format': 'no',\n",
              " 'resolutionvideo': 0,\n",
              " 'sensor': 'sensor_apsc',\n",
              " 'sensorraw': 6.52,\n",
              " 'status': 'TESTED',\n",
              " 'type': 'semiprodslr',\n",
              " 'video': 'no',\n",
              " 'waterproof': 'no',\n",
              " 'year': '2003'}"
            ]
          },
          "metadata": {
            "tags": []
          },
          "execution_count": 4
        }
      ]
    },
    {
      "cell_type": "code",
      "metadata": {
        "id": "cny4XCy5hIre",
        "colab": {
          "base_uri": "https://localhost:8080/"
        },
        "outputId": "b106f462-838e-4720-e70f-9aca7cc2a996"
      },
      "source": [
        "df = pd.DataFrame(search_json['data'])\n",
        "df.sort_values(by=\"id\" , inplace=True, ascending=True) \n",
        "df.shape[0]\n"
      ],
      "execution_count": null,
      "outputs": [
        {
          "output_type": "execute_result",
          "data": {
            "text/plain": [
              "386"
            ]
          },
          "metadata": {
            "tags": []
          },
          "execution_count": 135
        }
      ]
    },
    {
      "cell_type": "code",
      "metadata": {
        "colab": {
          "base_uri": "https://localhost:8080/",
          "height": 451
        },
        "id": "b_rkLdCcueOP",
        "outputId": "cb54ed89-073f-476d-dc01-de3b26b67581"
      },
      "source": [
        "df.sample(5)"
      ],
      "execution_count": null,
      "outputs": [
        {
          "output_type": "execute_result",
          "data": {
            "text/html": [
              "<div>\n",
              "<style scoped>\n",
              "    .dataframe tbody tr th:only-of-type {\n",
              "        vertical-align: middle;\n",
              "    }\n",
              "\n",
              "    .dataframe tbody tr th {\n",
              "        vertical-align: top;\n",
              "    }\n",
              "\n",
              "    .dataframe thead th {\n",
              "        text-align: right;\n",
              "    }\n",
              "</style>\n",
              "<table border=\"1\" class=\"dataframe\">\n",
              "  <thead>\n",
              "    <tr style=\"text-align: right;\">\n",
              "      <th></th>\n",
              "      <th>id</th>\n",
              "      <th>price</th>\n",
              "      <th>year</th>\n",
              "      <th>brand</th>\n",
              "      <th>rankDxo</th>\n",
              "      <th>rankColor</th>\n",
              "      <th>rankDyn</th>\n",
              "      <th>rankLln</th>\n",
              "      <th>rankDxo_ranking</th>\n",
              "      <th>rankColor_ranking</th>\n",
              "      <th>rankDyn_ranking</th>\n",
              "      <th>rankLln_ranking</th>\n",
              "      <th>name</th>\n",
              "      <th>pixelDepth</th>\n",
              "      <th>sensor</th>\n",
              "      <th>type</th>\n",
              "      <th>status</th>\n",
              "      <th>launchDate</th>\n",
              "      <th>launchDateGraph</th>\n",
              "      <th>sensorraw</th>\n",
              "      <th>link</th>\n",
              "      <th>chapo</th>\n",
              "      <th>linkReview</th>\n",
              "      <th>maximum_iso</th>\n",
              "      <th>raw_format</th>\n",
              "      <th>autofocus</th>\n",
              "      <th>resolutionvideo</th>\n",
              "      <th>flash</th>\n",
              "      <th>video</th>\n",
              "      <th>waterproof</th>\n",
              "      <th>image</th>\n",
              "    </tr>\n",
              "  </thead>\n",
              "  <tbody>\n",
              "    <tr>\n",
              "      <th>377</th>\n",
              "      <td>1352</td>\n",
              "      <td>6500</td>\n",
              "      <td>2020</td>\n",
              "      <td>Canon</td>\n",
              "      <td>91</td>\n",
              "      <td>24.2</td>\n",
              "      <td>14.5</td>\n",
              "      <td>3248</td>\n",
              "      <td>34</td>\n",
              "      <td>69</td>\n",
              "      <td>16</td>\n",
              "      <td>20</td>\n",
              "      <td>Canon  EOS-1D X Mark III</td>\n",
              "      <td>20.1</td>\n",
              "      <td>sensor_fullframe</td>\n",
              "      <td>professional</td>\n",
              "      <td>TESTED</td>\n",
              "      <td>Jan. 2020</td>\n",
              "      <td>2020-01-07</td>\n",
              "      <td>20.17</td>\n",
              "      <td>/Cameras/Canon/EOS-1D-X-Mark-III</td>\n",
              "      <td></td>\n",
              "      <td></td>\n",
              "      <td>0</td>\n",
              "      <td>no</td>\n",
              "      <td>no</td>\n",
              "      <td>0</td>\n",
              "      <td>no</td>\n",
              "      <td>no</td>\n",
              "      <td>no</td>\n",
              "      <td>https://cdn.dxomark.com/dakdata/xml/_EOS-1D_X_...</td>\n",
              "    </tr>\n",
              "    <tr>\n",
              "      <th>119</th>\n",
              "      <td>675</td>\n",
              "      <td>750</td>\n",
              "      <td>2010</td>\n",
              "      <td>Sony</td>\n",
              "      <td>73</td>\n",
              "      <td>23.0</td>\n",
              "      <td>12.4</td>\n",
              "      <td>816</td>\n",
              "      <td>155</td>\n",
              "      <td>151</td>\n",
              "      <td>160</td>\n",
              "      <td>169</td>\n",
              "      <td>Sony SLT Alpha 55</td>\n",
              "      <td>16.2</td>\n",
              "      <td>sensor_apsc</td>\n",
              "      <td>entryleveldslr, semiprodslr</td>\n",
              "      <td>TESTED</td>\n",
              "      <td>Aug. 2010</td>\n",
              "      <td>2010-08-24</td>\n",
              "      <td>16.20</td>\n",
              "      <td>/Cameras/Sony/SLT-Alpha-55</td>\n",
              "      <td>None</td>\n",
              "      <td>None</td>\n",
              "      <td>0</td>\n",
              "      <td>no</td>\n",
              "      <td>no</td>\n",
              "      <td>0</td>\n",
              "      <td>no</td>\n",
              "      <td>no</td>\n",
              "      <td>no</td>\n",
              "      <td>https://cdn.dxomark.com/dakdata/xml/SLT_Alpha_...</td>\n",
              "    </tr>\n",
              "    <tr>\n",
              "      <th>264</th>\n",
              "      <td>944</td>\n",
              "      <td>2850</td>\n",
              "      <td>2013</td>\n",
              "      <td>Leica</td>\n",
              "      <td>78</td>\n",
              "      <td>23.4</td>\n",
              "      <td>12.7</td>\n",
              "      <td>1320</td>\n",
              "      <td>117</td>\n",
              "      <td>130</td>\n",
              "      <td>117</td>\n",
              "      <td>84</td>\n",
              "      <td>Leica X Vario</td>\n",
              "      <td>16.2</td>\n",
              "      <td>sensor_apsc</td>\n",
              "      <td>highendcompact</td>\n",
              "      <td>TESTED</td>\n",
              "      <td>Jun. 2013</td>\n",
              "      <td>2013-06-11</td>\n",
              "      <td>16.19</td>\n",
              "      <td>/Cameras/Leica/X-Vario</td>\n",
              "      <td>Introduction  After the success of the APS-...</td>\n",
              "      <td>https://www.dxomark.com/leica-x-vario-sensor-r...</td>\n",
              "      <td>0</td>\n",
              "      <td>no</td>\n",
              "      <td>no</td>\n",
              "      <td>0</td>\n",
              "      <td>no</td>\n",
              "      <td>no</td>\n",
              "      <td>no</td>\n",
              "      <td>https://cdn.dxomark.com/dakdata/xml/X_Vario/vi...</td>\n",
              "    </tr>\n",
              "    <tr>\n",
              "      <th>68</th>\n",
              "      <td>631</td>\n",
              "      <td>1100</td>\n",
              "      <td>2009</td>\n",
              "      <td>Olympus</td>\n",
              "      <td>56</td>\n",
              "      <td>21.5</td>\n",
              "      <td>10.4</td>\n",
              "      <td>505</td>\n",
              "      <td>296</td>\n",
              "      <td>277</td>\n",
              "      <td>353</td>\n",
              "      <td>292</td>\n",
              "      <td>Olympus PEN EP2</td>\n",
              "      <td>12.3</td>\n",
              "      <td>sensor_micro43</td>\n",
              "      <td>hybrid</td>\n",
              "      <td>TESTED</td>\n",
              "      <td>Nov. 2009</td>\n",
              "      <td>2009-11-05</td>\n",
              "      <td>12.64</td>\n",
              "      <td>/Cameras/Olympus/PEN-EP2</td>\n",
              "      <td>None</td>\n",
              "      <td>None</td>\n",
              "      <td>0</td>\n",
              "      <td>no</td>\n",
              "      <td>no</td>\n",
              "      <td>0</td>\n",
              "      <td>no</td>\n",
              "      <td>no</td>\n",
              "      <td>no</td>\n",
              "      <td>https://cdn.dxomark.com/dakdata/xml/PEN_EP2/vi...</td>\n",
              "    </tr>\n",
              "    <tr>\n",
              "      <th>17</th>\n",
              "      <td>272</td>\n",
              "      <td>1300</td>\n",
              "      <td>2008</td>\n",
              "      <td>Canon</td>\n",
              "      <td>63</td>\n",
              "      <td>21.8</td>\n",
              "      <td>11.4</td>\n",
              "      <td>696</td>\n",
              "      <td>253</td>\n",
              "      <td>265</td>\n",
              "      <td>255</td>\n",
              "      <td>210</td>\n",
              "      <td>Canon EOS 50D</td>\n",
              "      <td>15.1</td>\n",
              "      <td>sensor_apsc</td>\n",
              "      <td>semiprodslr</td>\n",
              "      <td>TESTED</td>\n",
              "      <td>Aug. 2008</td>\n",
              "      <td>2008-08-26</td>\n",
              "      <td>15.15</td>\n",
              "      <td>/Cameras/Canon/EOS-50D</td>\n",
              "      <td>None</td>\n",
              "      <td>None</td>\n",
              "      <td>0</td>\n",
              "      <td>no</td>\n",
              "      <td>no</td>\n",
              "      <td>0</td>\n",
              "      <td>no</td>\n",
              "      <td>no</td>\n",
              "      <td>no</td>\n",
              "      <td>https://cdn.dxomark.com/dakdata/xml/EOS_50D/vi...</td>\n",
              "    </tr>\n",
              "  </tbody>\n",
              "</table>\n",
              "</div>"
            ],
            "text/plain": [
              "       id  price  ... waterproof                                              image\n",
              "377  1352   6500  ...         no  https://cdn.dxomark.com/dakdata/xml/_EOS-1D_X_...\n",
              "119   675    750  ...         no  https://cdn.dxomark.com/dakdata/xml/SLT_Alpha_...\n",
              "264   944   2850  ...         no  https://cdn.dxomark.com/dakdata/xml/X_Vario/vi...\n",
              "68    631   1100  ...         no  https://cdn.dxomark.com/dakdata/xml/PEN_EP2/vi...\n",
              "17    272   1300  ...         no  https://cdn.dxomark.com/dakdata/xml/EOS_50D/vi...\n",
              "\n",
              "[5 rows x 31 columns]"
            ]
          },
          "metadata": {
            "tags": []
          },
          "execution_count": 6
        }
      ]
    },
    {
      "cell_type": "markdown",
      "metadata": {
        "id": "3IUvSiNL9Geh"
      },
      "source": [
        "The data set contain 385 cameras, while some of them only have tested score instead of reviews. Thus they will be deleted from the data set, remaining only these with reviewss."
      ]
    },
    {
      "cell_type": "code",
      "metadata": {
        "id": "dV9HK6SJtNLo"
      },
      "source": [
        "df=df.dropna(axis=0, subset=['linkReview', 'chapo'])"
      ],
      "execution_count": null,
      "outputs": []
    },
    {
      "cell_type": "code",
      "metadata": {
        "id": "ahWkrwXun3RV"
      },
      "source": [
        "df=df.reset_index()"
      ],
      "execution_count": null,
      "outputs": []
    },
    {
      "cell_type": "markdown",
      "metadata": {
        "id": "5TSP_Vs0-IAP"
      },
      "source": [
        "Using the column 'link' in the data set, the links of each camera are obtained."
      ]
    },
    {
      "cell_type": "code",
      "metadata": {
        "id": "QbZ_8s3abUjA"
      },
      "source": [
        "url = 'https://www.dxomark.com'\n",
        "links=df['link']\n",
        "links=url+links\n",
        "camname=df['name']"
      ],
      "execution_count": null,
      "outputs": []
    },
    {
      "cell_type": "code",
      "metadata": {
        "colab": {
          "base_uri": "https://localhost:8080/"
        },
        "id": "kOAmSUKfsrOK",
        "outputId": "7588cc2d-59b5-4900-a7e8-6d47170b5635"
      },
      "source": [
        "links"
      ],
      "execution_count": null,
      "outputs": [
        {
          "output_type": "execute_result",
          "data": {
            "text/plain": [
              "0            https://www.dxomark.com/Cameras/Pentax/K10D\n",
              "1      https://www.dxomark.com/Cameras/Panasonic/Lumi...\n",
              "2      https://www.dxomark.com/Cameras/Phase-One/P45-...\n",
              "3      https://www.dxomark.com/Cameras/Hasselblad/H3D...\n",
              "4      https://www.dxomark.com/Cameras/Olympus/SP-565-UZ\n",
              "                             ...                        \n",
              "241          https://www.dxomark.com/Cameras/Sony/A7SIII\n",
              "242          https://www.dxomark.com/Cameras/Leica/SL2-S\n",
              "243           https://www.dxomark.com/Cameras/Nikon/Z7II\n",
              "244    https://www.dxomark.com/Cameras/Panasonic/Lumi...\n",
              "245           https://www.dxomark.com/Cameras/Nikon/Z6II\n",
              "Name: link, Length: 246, dtype: object"
            ]
          },
          "metadata": {
            "tags": []
          },
          "execution_count": 143
        }
      ]
    },
    {
      "cell_type": "markdown",
      "metadata": {
        "id": "nwdWIn1u-bMl"
      },
      "source": [
        "In the html document, the class of review words is 'main-post'. Here a new column 'reviews' is developed to storage the reviews collected from each page."
      ]
    },
    {
      "cell_type": "code",
      "metadata": {
        "id": "BREAy_0MVSJM"
      },
      "source": [
        "def scrape_review(url):\n",
        "   campage = session.get(url)\n",
        "   review=campage.html.find('.main-post')[0].text\n",
        "   return review"
      ],
      "execution_count": null,
      "outputs": []
    },
    {
      "cell_type": "code",
      "metadata": {
        "id": "7B3imen2tVo5"
      },
      "source": [
        "df['reviews']=None\n",
        "\n",
        "for i in range(df.shape[0]):\n",
        "    url = links[i]\n",
        "    text = scrape_review(url)\n",
        "    df.reviews[i]=text"
      ],
      "execution_count": null,
      "outputs": []
    },
    {
      "cell_type": "markdown",
      "metadata": {
        "id": "hn0yKepg-91Q"
      },
      "source": [
        "Then we get the csv document."
      ]
    },
    {
      "cell_type": "code",
      "metadata": {
        "id": "iMLIC-P-iN8N"
      },
      "source": [
        "df.to_csv(\"camdata.csv\")"
      ],
      "execution_count": null,
      "outputs": []
    },
    {
      "cell_type": "markdown",
      "metadata": {
        "id": "QMo5s661_VUH"
      },
      "source": [
        "##Analysis"
      ]
    },
    {
      "cell_type": "code",
      "metadata": {
        "id": "kVfBq5Zg_eCh"
      },
      "source": [
        "import pandas as pd\n",
        "\n",
        "from sklearn.feature_extraction.text import CountVectorizer, TfidfVectorizer\n",
        "from sklearn.decomposition import LatentDirichletAllocation\n",
        "\n",
        "import numpy as np"
      ],
      "execution_count": 2,
      "outputs": []
    },
    {
      "cell_type": "code",
      "metadata": {
        "id": "shdoUO8O_Zn4"
      },
      "source": [
        "df = pd.read_csv(\"camdata.csv\")"
      ],
      "execution_count": 3,
      "outputs": []
    },
    {
      "cell_type": "code",
      "metadata": {
        "colab": {
          "base_uri": "https://localhost:8080/"
        },
        "id": "aqGOw7c0_kS6",
        "outputId": "70b0acae-0d0b-4504-e798-c4396ff4de0f"
      },
      "source": [
        "df.info()"
      ],
      "execution_count": 4,
      "outputs": [
        {
          "output_type": "stream",
          "text": [
            "<class 'pandas.core.frame.DataFrame'>\n",
            "RangeIndex: 233 entries, 0 to 232\n",
            "Data columns (total 32 columns):\n",
            " #   Column             Non-Null Count  Dtype  \n",
            "---  ------             --------------  -----  \n",
            " 0   id                 233 non-null    int64  \n",
            " 1   price              233 non-null    int64  \n",
            " 2   year               233 non-null    int64  \n",
            " 3   brand              233 non-null    object \n",
            " 4   rankDxo            233 non-null    int64  \n",
            " 5   rankColor          233 non-null    float64\n",
            " 6   rankDyn            233 non-null    float64\n",
            " 7   rankLln            233 non-null    int64  \n",
            " 8   rankDxo_ranking    233 non-null    int64  \n",
            " 9   rankColor_ranking  233 non-null    int64  \n",
            " 10  rankDyn_ranking    233 non-null    int64  \n",
            " 11  rankLln_ranking    233 non-null    int64  \n",
            " 12  name               233 non-null    object \n",
            " 13  pixelDepth         233 non-null    float64\n",
            " 14  sensor             229 non-null    object \n",
            " 15  type               233 non-null    object \n",
            " 16  status             233 non-null    object \n",
            " 17  launchDate         233 non-null    object \n",
            " 18  launchDateGraph    233 non-null    object \n",
            " 19  sensorraw          233 non-null    float64\n",
            " 20  link               233 non-null    object \n",
            " 21  chapo              233 non-null    object \n",
            " 22  linkReview         233 non-null    object \n",
            " 23  maximum_iso        233 non-null    int64  \n",
            " 24  raw_format         233 non-null    object \n",
            " 25  autofocus          233 non-null    object \n",
            " 26  resolutionvideo    233 non-null    int64  \n",
            " 27  flash              233 non-null    object \n",
            " 28  video              233 non-null    object \n",
            " 29  waterproof         233 non-null    object \n",
            " 30  image              233 non-null    object \n",
            " 31  reviews            233 non-null    object \n",
            "dtypes: float64(4), int64(11), object(17)\n",
            "memory usage: 58.4+ KB\n"
          ],
          "name": "stdout"
        }
      ]
    },
    {
      "cell_type": "code",
      "metadata": {
        "colab": {
          "base_uri": "https://localhost:8080/"
        },
        "id": "NlCW-ybR_wao",
        "outputId": "ec3ff956-9f3f-4046-ced3-bfba0b7160e1"
      },
      "source": [
        "np.max(df['rankDxo'], axis=0)"
      ],
      "execution_count": 5,
      "outputs": [
        {
          "output_type": "execute_result",
          "data": {
            "text/plain": [
              "102"
            ]
          },
          "metadata": {
            "tags": []
          },
          "execution_count": 5
        }
      ]
    },
    {
      "cell_type": "code",
      "metadata": {
        "colab": {
          "base_uri": "https://localhost:8080/"
        },
        "id": "L5S0eRLs_yUi",
        "outputId": "de804464-7531-40e6-9734-798a6f1c11e9"
      },
      "source": [
        "np.min(df['rankDxo'], axis=0)"
      ],
      "execution_count": 6,
      "outputs": [
        {
          "output_type": "execute_result",
          "data": {
            "text/plain": [
              "29"
            ]
          },
          "metadata": {
            "tags": []
          },
          "execution_count": 6
        }
      ]
    },
    {
      "cell_type": "code",
      "metadata": {
        "colab": {
          "base_uri": "https://localhost:8080/",
          "height": 265
        },
        "id": "EFaUU4I0DF_V",
        "outputId": "f9a658bf-d8b8-471f-8235-82df3cbeeaa4"
      },
      "source": [
        "h = df['rankDxo'].hist(bins=100)"
      ],
      "execution_count": 8,
      "outputs": [
        {
          "output_type": "display_data",
          "data": {
            "image/png": "[encoded data removed]",
            "text/plain": [
              "<Figure size 432x288 with 1 Axes>"
            ]
          },
          "metadata": {
            "tags": [],
            "needs_background": "light"
          }
        }
      ]
    },
    {
      "cell_type": "markdown",
      "metadata": {
        "id": "qylkXEQpB_Hr"
      },
      "source": [
        "The variable rankDxo represent the overall tested score of a camera, having a range from 29 to 102. To make the classification more intuitive, I decided to divided the cameras in two group('high' and 'low')s by their rankDxo. A new variable rating is created."
      ]
    },
    {
      "cell_type": "code",
      "metadata": {
        "colab": {
          "base_uri": "https://localhost:8080/"
        },
        "id": "y7Pm-I-R_1Zn",
        "outputId": "42bdb1b6-341c-4e5c-c4d4-6b75c6af9fa9"
      },
      "source": [
        "df['rating']=None\n",
        "\n",
        "for i in range(df.shape[0]):\n",
        "    if df.rankDxo[i] <= 65 :\n",
        "     df.rating[i]='low'\n",
        "    if  df.rankDxo[i] >65 :\n",
        "     df.rating[i]='high'"
      ],
      "execution_count": 70,
      "outputs": [
        {
          "output_type": "stream",
          "text": [
            "/usr/local/lib/python3.7/dist-packages/ipykernel_launcher.py:7: SettingWithCopyWarning: \n",
            "A value is trying to be set on a copy of a slice from a DataFrame\n",
            "\n",
            "See the caveats in the documentation: https://pandas.pydata.org/pandas-docs/stable/user_guide/indexing.html#returning-a-view-versus-a-copy\n",
            "  import sys\n",
            "/usr/local/lib/python3.7/dist-packages/ipykernel_launcher.py:5: SettingWithCopyWarning: \n",
            "A value is trying to be set on a copy of a slice from a DataFrame\n",
            "\n",
            "See the caveats in the documentation: https://pandas.pydata.org/pandas-docs/stable/user_guide/indexing.html#returning-a-view-versus-a-copy\n",
            "  \"\"\"\n"
          ],
          "name": "stderr"
        }
      ]
    },
    {
      "cell_type": "code",
      "metadata": {
        "colab": {
          "base_uri": "https://localhost:8080/"
        },
        "id": "D9kCNdixDWT3",
        "outputId": "587678f9-4433-46a1-bf1d-8d5588e49c04"
      },
      "source": [
        "df['rating'].value_counts()"
      ],
      "execution_count": 71,
      "outputs": [
        {
          "output_type": "execute_result",
          "data": {
            "text/plain": [
              "high    158\n",
              "low      75\n",
              "Name: rating, dtype: int64"
            ]
          },
          "metadata": {
            "tags": []
          },
          "execution_count": 71
        }
      ]
    },
    {
      "cell_type": "markdown",
      "metadata": {
        "id": "9EcWQi-7Dj5r"
      },
      "source": [
        "###Sentimental Analysis"
      ]
    },
    {
      "cell_type": "code",
      "metadata": {
        "colab": {
          "base_uri": "https://localhost:8080/"
        },
        "id": "llN79TfzDi5d",
        "outputId": "30c05fb2-8ad6-4614-e381-91269482c2bd"
      },
      "source": [
        "%pip install vaderSentiment"
      ],
      "execution_count": 57,
      "outputs": [
        {
          "output_type": "stream",
          "text": [
            "Requirement already satisfied: vaderSentiment in /usr/local/lib/python3.7/dist-packages (3.3.2)\n",
            "Requirement already satisfied: requests in /usr/local/lib/python3.7/dist-packages (from vaderSentiment) (2.23.0)\n",
            "Requirement already satisfied: chardet<4,>=3.0.2 in /usr/local/lib/python3.7/dist-packages (from requests->vaderSentiment) (3.0.4)\n",
            "Requirement already satisfied: idna<3,>=2.5 in /usr/local/lib/python3.7/dist-packages (from requests->vaderSentiment) (2.10)\n",
            "Requirement already satisfied: certifi>=2017.4.17 in /usr/local/lib/python3.7/dist-packages (from requests->vaderSentiment) (2020.12.5)\n",
            "Requirement already satisfied: urllib3!=1.25.0,!=1.25.1,<1.26,>=1.21.1 in /usr/local/lib/python3.7/dist-packages (from requests->vaderSentiment) (1.24.3)\n"
          ],
          "name": "stdout"
        }
      ]
    },
    {
      "cell_type": "code",
      "metadata": {
        "id": "i4EWtLfCDo4S"
      },
      "source": [
        "from vaderSentiment.vaderSentiment import SentimentIntensityAnalyzer\n",
        "analyzer = SentimentIntensityAnalyzer()"
      ],
      "execution_count": 58,
      "outputs": []
    },
    {
      "cell_type": "code",
      "metadata": {
        "id": "NxN0uCscDwHR"
      },
      "source": [
        "def sentiment(text):\n",
        "    score = analyzer.polarity_scores(text)['compound']\n",
        "    return score"
      ],
      "execution_count": 59,
      "outputs": []
    },
    {
      "cell_type": "code",
      "metadata": {
        "id": "ax8JG13RD2iU"
      },
      "source": [
        "df['sentiment'] = df['reviews'].apply(sentiment)"
      ],
      "execution_count": 60,
      "outputs": []
    },
    {
      "cell_type": "code",
      "metadata": {
        "colab": {
          "base_uri": "https://localhost:8080/",
          "height": 175
        },
        "id": "7DJb-8WHEDXI",
        "outputId": "2ffa5df0-6177-4ffc-8f15-e5b029db5b85"
      },
      "source": [
        "df.groupby('rating')[['sentiment']].describe()"
      ],
      "execution_count": 271,
      "outputs": [
        {
          "output_type": "execute_result",
          "data": {
            "text/html": [
              "<div>\n",
              "<style scoped>\n",
              "    .dataframe tbody tr th:only-of-type {\n",
              "        vertical-align: middle;\n",
              "    }\n",
              "\n",
              "    .dataframe tbody tr th {\n",
              "        vertical-align: top;\n",
              "    }\n",
              "\n",
              "    .dataframe thead tr th {\n",
              "        text-align: left;\n",
              "    }\n",
              "\n",
              "    .dataframe thead tr:last-of-type th {\n",
              "        text-align: right;\n",
              "    }\n",
              "</style>\n",
              "<table border=\"1\" class=\"dataframe\">\n",
              "  <thead>\n",
              "    <tr>\n",
              "      <th></th>\n",
              "      <th colspan=\"8\" halign=\"left\">sentiment</th>\n",
              "    </tr>\n",
              "    <tr>\n",
              "      <th></th>\n",
              "      <th>count</th>\n",
              "      <th>mean</th>\n",
              "      <th>std</th>\n",
              "      <th>min</th>\n",
              "      <th>25%</th>\n",
              "      <th>50%</th>\n",
              "      <th>75%</th>\n",
              "      <th>max</th>\n",
              "    </tr>\n",
              "    <tr>\n",
              "      <th>rating</th>\n",
              "      <th></th>\n",
              "      <th></th>\n",
              "      <th></th>\n",
              "      <th></th>\n",
              "      <th></th>\n",
              "      <th></th>\n",
              "      <th></th>\n",
              "      <th></th>\n",
              "    </tr>\n",
              "  </thead>\n",
              "  <tbody>\n",
              "    <tr>\n",
              "      <th>high</th>\n",
              "      <td>158.0</td>\n",
              "      <td>0.625332</td>\n",
              "      <td>0.361783</td>\n",
              "      <td>-0.9806</td>\n",
              "      <td>0.482175</td>\n",
              "      <td>0.7430</td>\n",
              "      <td>0.886775</td>\n",
              "      <td>0.9910</td>\n",
              "    </tr>\n",
              "    <tr>\n",
              "      <th>low</th>\n",
              "      <td>75.0</td>\n",
              "      <td>0.474973</td>\n",
              "      <td>0.495046</td>\n",
              "      <td>-0.7398</td>\n",
              "      <td>0.254800</td>\n",
              "      <td>0.6597</td>\n",
              "      <td>0.858700</td>\n",
              "      <td>0.9688</td>\n",
              "    </tr>\n",
              "  </tbody>\n",
              "</table>\n",
              "</div>"
            ],
            "text/plain": [
              "       sentiment                      ...                          \n",
              "           count      mean       std  ...     50%       75%     max\n",
              "rating                                ...                          \n",
              "high       158.0  0.625332  0.361783  ...  0.7430  0.886775  0.9910\n",
              "low         75.0  0.474973  0.495046  ...  0.6597  0.858700  0.9688\n",
              "\n",
              "[2 rows x 8 columns]"
            ]
          },
          "metadata": {
            "tags": []
          },
          "execution_count": 271
        }
      ]
    },
    {
      "cell_type": "markdown",
      "metadata": {
        "id": "dpPKwDQ1pWbA"
      },
      "source": [
        "With the SentimentIntensityAnalyzer, the sentiment scores of the two rating parts are attained."
      ]
    },
    {
      "cell_type": "code",
      "metadata": {
        "colab": {
          "base_uri": "https://localhost:8080/",
          "height": 294
        },
        "id": "3Df_KtVyEOzT",
        "outputId": "b0703a10-e620-40e3-ed8f-5e8c91370f80"
      },
      "source": [
        "hist= df['sentiment'].hist(by=df['rating'])"
      ],
      "execution_count": 62,
      "outputs": [
        {
          "output_type": "display_data",
          "data": {
            "image/png": "[encoded data removed]",
            "text/plain": [
              "<Figure size 432x288 with 2 Axes>"
            ]
          },
          "metadata": {
            "tags": [],
            "needs_background": "light"
          }
        }
      ]
    },
    {
      "cell_type": "markdown",
      "metadata": {
        "id": "f5UYpqGFFbYV"
      },
      "source": [
        "From the above histgram plot we can see the result of sentimental analysis is not ideal. Maybe it is because when authors writing a review of a camera, they will do their best to make the words objective."
      ]
    },
    {
      "cell_type": "markdown",
      "metadata": {
        "id": "cfLr2EuUFvhv"
      },
      "source": [
        "### Text classification"
      ]
    },
    {
      "cell_type": "markdown",
      "metadata": {
        "id": "ezleyDzlF0e4"
      },
      "source": [
        "#### Logestic model"
      ]
    },
    {
      "cell_type": "code",
      "metadata": {
        "id": "gZtNVaspF37N"
      },
      "source": [
        "import seaborn as sns\n",
        "from sklearn.feature_extraction.text import CountVectorizer, TfidfTransformer\n",
        "from sklearn.linear_model import LogisticRegression\n",
        "from sklearn.metrics import classification_report, confusion_matrix, accuracy_score\n",
        "from sklearn.model_selection import train_test_split\n",
        "\n",
        "from sklearn.model_selection import GridSearchCV\n",
        "from sklearn.pipeline import Pipeline\n",
        "from sklearn.model_selection import train_test_split\n",
        "\n",
        "train, test = train_test_split(df, test_size=0.2)"
      ],
      "execution_count": 176,
      "outputs": []
    },
    {
      "cell_type": "markdown",
      "metadata": {
        "id": "MfpqVMs2q_EN"
      },
      "source": [
        "I built two logestic models, one using words as predictor, another using topics."
      ]
    },
    {
      "cell_type": "markdown",
      "metadata": {
        "id": "deXCqol4Tmlb"
      },
      "source": [
        "##### Topic\n",
        "This part is the preparation for the topic model. Using LDA model the words have been divided into 10 topics."
      ]
    },
    {
      "cell_type": "code",
      "metadata": {
        "colab": {
          "base_uri": "https://localhost:8080/"
        },
        "id": "STgYZjlnNkep",
        "outputId": "332a3e15-39d8-47fa-8166-c54d80c2342e"
      },
      "source": [
        "import nltk\n",
        "nltk.download('stopwords')"
      ],
      "execution_count": 21,
      "outputs": [
        {
          "output_type": "stream",
          "text": [
            "[nltk_data] Downloading package stopwords to /root/nltk_data...\n",
            "[nltk_data]   Unzipping corpora/stopwords.zip.\n"
          ],
          "name": "stdout"
        },
        {
          "output_type": "execute_result",
          "data": {
            "text/plain": [
              "True"
            ]
          },
          "metadata": {
            "tags": []
          },
          "execution_count": 21
        }
      ]
    },
    {
      "cell_type": "code",
      "metadata": {
        "id": "aky7r1H5TVQQ"
      },
      "source": [
        "vect = CountVectorizer(min_df=40, \n",
        "                       stop_words = nltk_stops,\n",
        "                       max_df=0.6,\n",
        "                      max_features=1000)"
      ],
      "execution_count": 91,
      "outputs": []
    },
    {
      "cell_type": "code",
      "metadata": {
        "colab": {
          "base_uri": "https://localhost:8080/"
        },
        "id": "3Rh6FSZKTX2o",
        "outputId": "af5cc5d4-2039-47c2-9847-eb67b09941f5"
      },
      "source": [
        "vect.fit(df['reviews'])"
      ],
      "execution_count": 92,
      "outputs": [
        {
          "output_type": "execute_result",
          "data": {
            "text/plain": [
              "CountVectorizer(analyzer='word', binary=False, decode_error='strict',\n",
              "                dtype=<class 'numpy.int64'>, encoding='utf-8', input='content',\n",
              "                lowercase=True, max_df=0.6, max_features=1000, min_df=40,\n",
              "                ngram_range=(1, 1), preprocessor=None,\n",
              "                stop_words=['i', 'me', 'my', 'myself', 'we', 'our', 'ours',\n",
              "                            'ourselves', 'you', \"you're\", \"you've\", \"you'll\",\n",
              "                            \"you'd\", 'your', 'yours', 'yourself', 'yourselves',\n",
              "                            'he', 'him', 'his', 'himself', 'she', \"she's\",\n",
              "                            'her', 'hers', 'herself', 'it', \"it's\", 'its',\n",
              "                            'itself', ...],\n",
              "                strip_accents=None, token_pattern='(?u)\\\\b\\\\w\\\\w+\\\\b',\n",
              "                tokenizer=None, vocabulary=None)"
            ]
          },
          "metadata": {
            "tags": []
          },
          "execution_count": 92
        }
      ]
    },
    {
      "cell_type": "code",
      "metadata": {
        "id": "sepYvHF4TcLE"
      },
      "source": [
        "tf = vect.transform(df['reviews'])"
      ],
      "execution_count": 93,
      "outputs": []
    },
    {
      "cell_type": "code",
      "metadata": {
        "id": "EyddHageTgqZ"
      },
      "source": [
        "lda_model = LatentDirichletAllocation(n_components   = 10,\n",
        "                                      max_iter       = 100,\n",
        "                                      evaluate_every = 5,\n",
        "                                      verbose = 2,\n",
        "                                      n_jobs= 2,\n",
        "                                     )"
      ],
      "execution_count": 94,
      "outputs": []
    },
    {
      "cell_type": "code",
      "metadata": {
        "colab": {
          "base_uri": "https://localhost:8080/"
        },
        "id": "KmfxnqMoTjWX",
        "outputId": "3a449ac3-da6c-424b-ca2f-181c5b8da3fe"
      },
      "source": [
        "lda_model.fit(tf)"
      ],
      "execution_count": 95,
      "outputs": [
        {
          "output_type": "stream",
          "text": [
            "[Parallel(n_jobs=2)]: Using backend LokyBackend with 2 concurrent workers.\n",
            "[Parallel(n_jobs=2)]: Done   2 out of   2 | elapsed:    0.1s remaining:    0.0s\n",
            "[Parallel(n_jobs=2)]: Done   2 out of   2 | elapsed:    0.1s finished\n",
            "[Parallel(n_jobs=2)]: Using backend LokyBackend with 2 concurrent workers.\n",
            "[Parallel(n_jobs=2)]: Done   2 out of   2 | elapsed:    0.1s remaining:    0.0s\n",
            "[Parallel(n_jobs=2)]: Done   2 out of   2 | elapsed:    0.1s finished\n",
            "[Parallel(n_jobs=2)]: Using backend LokyBackend with 2 concurrent workers.\n"
          ],
          "name": "stderr"
        },
        {
          "output_type": "stream",
          "text": [
            "iteration: 1 of max_iter: 100\n",
            "iteration: 2 of max_iter: 100\n",
            "iteration: 3 of max_iter: 100\n"
          ],
          "name": "stdout"
        },
        {
          "output_type": "stream",
          "text": [
            "[Parallel(n_jobs=2)]: Done   2 out of   2 | elapsed:    0.1s remaining:    0.0s\n",
            "[Parallel(n_jobs=2)]: Done   2 out of   2 | elapsed:    0.1s finished\n",
            "[Parallel(n_jobs=2)]: Using backend LokyBackend with 2 concurrent workers.\n",
            "[Parallel(n_jobs=2)]: Done   2 out of   2 | elapsed:    0.1s remaining:    0.0s\n",
            "[Parallel(n_jobs=2)]: Done   2 out of   2 | elapsed:    0.1s finished\n",
            "[Parallel(n_jobs=2)]: Using backend LokyBackend with 2 concurrent workers.\n",
            "[Parallel(n_jobs=2)]: Done   2 out of   2 | elapsed:    0.1s remaining:    0.0s\n",
            "[Parallel(n_jobs=2)]: Done   2 out of   2 | elapsed:    0.1s finished\n",
            "[Parallel(n_jobs=2)]: Using backend LokyBackend with 2 concurrent workers.\n",
            "[Parallel(n_jobs=2)]: Done   2 out of   2 | elapsed:    0.1s remaining:    0.0s\n",
            "[Parallel(n_jobs=2)]: Done   2 out of   2 | elapsed:    0.1s finished\n"
          ],
          "name": "stderr"
        },
        {
          "output_type": "stream",
          "text": [
            "iteration: 4 of max_iter: 100\n",
            "iteration: 5 of max_iter: 100, perplexity: 40.6018\n"
          ],
          "name": "stdout"
        },
        {
          "output_type": "stream",
          "text": [
            "[Parallel(n_jobs=2)]: Using backend LokyBackend with 2 concurrent workers.\n",
            "[Parallel(n_jobs=2)]: Done   2 out of   2 | elapsed:    0.1s remaining:    0.0s\n",
            "[Parallel(n_jobs=2)]: Done   2 out of   2 | elapsed:    0.1s finished\n",
            "[Parallel(n_jobs=2)]: Using backend LokyBackend with 2 concurrent workers.\n",
            "[Parallel(n_jobs=2)]: Done   2 out of   2 | elapsed:    0.1s remaining:    0.0s\n",
            "[Parallel(n_jobs=2)]: Done   2 out of   2 | elapsed:    0.1s finished\n",
            "[Parallel(n_jobs=2)]: Using backend LokyBackend with 2 concurrent workers.\n",
            "[Parallel(n_jobs=2)]: Done   2 out of   2 | elapsed:    0.1s remaining:    0.0s\n",
            "[Parallel(n_jobs=2)]: Done   2 out of   2 | elapsed:    0.1s finished\n",
            "[Parallel(n_jobs=2)]: Using backend LokyBackend with 2 concurrent workers.\n"
          ],
          "name": "stderr"
        },
        {
          "output_type": "stream",
          "text": [
            "iteration: 6 of max_iter: 100\n",
            "iteration: 7 of max_iter: 100\n",
            "iteration: 8 of max_iter: 100\n",
            "iteration: 9 of max_iter: 100\n"
          ],
          "name": "stdout"
        },
        {
          "output_type": "stream",
          "text": [
            "[Parallel(n_jobs=2)]: Done   2 out of   2 | elapsed:    0.1s remaining:    0.0s\n",
            "[Parallel(n_jobs=2)]: Done   2 out of   2 | elapsed:    0.1s finished\n",
            "[Parallel(n_jobs=2)]: Using backend LokyBackend with 2 concurrent workers.\n",
            "[Parallel(n_jobs=2)]: Done   2 out of   2 | elapsed:    0.1s remaining:    0.0s\n",
            "[Parallel(n_jobs=2)]: Done   2 out of   2 | elapsed:    0.1s finished\n",
            "[Parallel(n_jobs=2)]: Using backend LokyBackend with 2 concurrent workers.\n",
            "[Parallel(n_jobs=2)]: Done   2 out of   2 | elapsed:    0.0s remaining:    0.0s\n",
            "[Parallel(n_jobs=2)]: Done   2 out of   2 | elapsed:    0.0s finished\n",
            "[Parallel(n_jobs=2)]: Using backend LokyBackend with 2 concurrent workers.\n",
            "[Parallel(n_jobs=2)]: Done   2 out of   2 | elapsed:    0.1s remaining:    0.0s\n",
            "[Parallel(n_jobs=2)]: Done   2 out of   2 | elapsed:    0.1s finished\n",
            "[Parallel(n_jobs=2)]: Using backend LokyBackend with 2 concurrent workers.\n"
          ],
          "name": "stderr"
        },
        {
          "output_type": "stream",
          "text": [
            "iteration: 10 of max_iter: 100, perplexity: 38.9790\n",
            "iteration: 11 of max_iter: 100\n",
            "iteration: 12 of max_iter: 100\n",
            "iteration: 13 of max_iter: 100\n"
          ],
          "name": "stdout"
        },
        {
          "output_type": "stream",
          "text": [
            "[Parallel(n_jobs=2)]: Done   2 out of   2 | elapsed:    0.1s remaining:    0.0s\n",
            "[Parallel(n_jobs=2)]: Done   2 out of   2 | elapsed:    0.1s finished\n",
            "[Parallel(n_jobs=2)]: Using backend LokyBackend with 2 concurrent workers.\n",
            "[Parallel(n_jobs=2)]: Done   2 out of   2 | elapsed:    0.0s remaining:    0.0s\n",
            "[Parallel(n_jobs=2)]: Done   2 out of   2 | elapsed:    0.0s finished\n",
            "[Parallel(n_jobs=2)]: Using backend LokyBackend with 2 concurrent workers.\n",
            "[Parallel(n_jobs=2)]: Done   2 out of   2 | elapsed:    0.0s remaining:    0.0s\n",
            "[Parallel(n_jobs=2)]: Done   2 out of   2 | elapsed:    0.0s finished\n",
            "[Parallel(n_jobs=2)]: Using backend LokyBackend with 2 concurrent workers.\n",
            "[Parallel(n_jobs=2)]: Done   2 out of   2 | elapsed:    0.0s remaining:    0.0s\n",
            "[Parallel(n_jobs=2)]: Done   2 out of   2 | elapsed:    0.0s finished\n",
            "[Parallel(n_jobs=2)]: Using backend LokyBackend with 2 concurrent workers.\n",
            "[Parallel(n_jobs=2)]: Done   2 out of   2 | elapsed:    0.0s remaining:    0.0s\n",
            "[Parallel(n_jobs=2)]: Done   2 out of   2 | elapsed:    0.0s finished\n"
          ],
          "name": "stderr"
        },
        {
          "output_type": "stream",
          "text": [
            "iteration: 14 of max_iter: 100\n",
            "iteration: 15 of max_iter: 100, perplexity: 38.1889\n",
            "iteration: 16 of max_iter: 100\n"
          ],
          "name": "stdout"
        },
        {
          "output_type": "stream",
          "text": [
            "[Parallel(n_jobs=2)]: Using backend LokyBackend with 2 concurrent workers.\n",
            "[Parallel(n_jobs=2)]: Done   2 out of   2 | elapsed:    0.1s remaining:    0.0s\n",
            "[Parallel(n_jobs=2)]: Done   2 out of   2 | elapsed:    0.1s finished\n",
            "[Parallel(n_jobs=2)]: Using backend LokyBackend with 2 concurrent workers.\n",
            "[Parallel(n_jobs=2)]: Done   2 out of   2 | elapsed:    0.1s remaining:    0.0s\n",
            "[Parallel(n_jobs=2)]: Done   2 out of   2 | elapsed:    0.1s finished\n",
            "[Parallel(n_jobs=2)]: Using backend LokyBackend with 2 concurrent workers.\n",
            "[Parallel(n_jobs=2)]: Done   2 out of   2 | elapsed:    0.1s remaining:    0.0s\n",
            "[Parallel(n_jobs=2)]: Done   2 out of   2 | elapsed:    0.1s finished\n",
            "[Parallel(n_jobs=2)]: Using backend LokyBackend with 2 concurrent workers.\n"
          ],
          "name": "stderr"
        },
        {
          "output_type": "stream",
          "text": [
            "iteration: 17 of max_iter: 100\n",
            "iteration: 18 of max_iter: 100\n",
            "iteration: 19 of max_iter: 100\n",
            "iteration: 20 of max_iter: 100, perplexity: 38.0036\n"
          ],
          "name": "stdout"
        },
        {
          "output_type": "stream",
          "text": [
            "[Parallel(n_jobs=2)]: Done   2 out of   2 | elapsed:    0.0s remaining:    0.0s\n",
            "[Parallel(n_jobs=2)]: Done   2 out of   2 | elapsed:    0.0s finished\n",
            "[Parallel(n_jobs=2)]: Using backend LokyBackend with 2 concurrent workers.\n",
            "[Parallel(n_jobs=2)]: Done   2 out of   2 | elapsed:    0.0s remaining:    0.0s\n",
            "[Parallel(n_jobs=2)]: Done   2 out of   2 | elapsed:    0.0s finished\n",
            "[Parallel(n_jobs=2)]: Using backend LokyBackend with 2 concurrent workers.\n",
            "[Parallel(n_jobs=2)]: Done   2 out of   2 | elapsed:    0.0s remaining:    0.0s\n",
            "[Parallel(n_jobs=2)]: Done   2 out of   2 | elapsed:    0.0s finished\n",
            "[Parallel(n_jobs=2)]: Using backend LokyBackend with 2 concurrent workers.\n",
            "[Parallel(n_jobs=2)]: Done   2 out of   2 | elapsed:    0.1s remaining:    0.0s\n",
            "[Parallel(n_jobs=2)]: Done   2 out of   2 | elapsed:    0.1s finished\n",
            "[Parallel(n_jobs=2)]: Using backend LokyBackend with 2 concurrent workers.\n"
          ],
          "name": "stderr"
        },
        {
          "output_type": "stream",
          "text": [
            "iteration: 21 of max_iter: 100\n",
            "iteration: 22 of max_iter: 100\n",
            "iteration: 23 of max_iter: 100\n",
            "iteration: 24 of max_iter: 100\n"
          ],
          "name": "stdout"
        },
        {
          "output_type": "stream",
          "text": [
            "[Parallel(n_jobs=2)]: Done   2 out of   2 | elapsed:    0.0s remaining:    0.0s\n",
            "[Parallel(n_jobs=2)]: Done   2 out of   2 | elapsed:    0.0s finished\n",
            "[Parallel(n_jobs=2)]: Using backend LokyBackend with 2 concurrent workers.\n",
            "[Parallel(n_jobs=2)]: Done   2 out of   2 | elapsed:    0.0s remaining:    0.0s\n",
            "[Parallel(n_jobs=2)]: Done   2 out of   2 | elapsed:    0.1s finished\n",
            "[Parallel(n_jobs=2)]: Using backend LokyBackend with 2 concurrent workers.\n",
            "[Parallel(n_jobs=2)]: Done   2 out of   2 | elapsed:    0.0s remaining:    0.0s\n",
            "[Parallel(n_jobs=2)]: Done   2 out of   2 | elapsed:    0.0s finished\n",
            "[Parallel(n_jobs=2)]: Using backend LokyBackend with 2 concurrent workers.\n",
            "[Parallel(n_jobs=2)]: Done   2 out of   2 | elapsed:    0.0s remaining:    0.0s\n",
            "[Parallel(n_jobs=2)]: Done   2 out of   2 | elapsed:    0.0s finished\n",
            "[Parallel(n_jobs=2)]: Using backend LokyBackend with 2 concurrent workers.\n",
            "[Parallel(n_jobs=2)]: Done   2 out of   2 | elapsed:    0.0s remaining:    0.0s\n",
            "[Parallel(n_jobs=2)]: Done   2 out of   2 | elapsed:    0.0s finished\n",
            "[Parallel(n_jobs=2)]: Using backend LokyBackend with 2 concurrent workers.\n"
          ],
          "name": "stderr"
        },
        {
          "output_type": "stream",
          "text": [
            "iteration: 25 of max_iter: 100, perplexity: 37.8642\n",
            "iteration: 26 of max_iter: 100\n",
            "iteration: 27 of max_iter: 100\n",
            "iteration: 28 of max_iter: 100\n",
            "iteration: 29 of max_iter: 100\n"
          ],
          "name": "stdout"
        },
        {
          "output_type": "stream",
          "text": [
            "[Parallel(n_jobs=2)]: Done   2 out of   2 | elapsed:    0.0s remaining:    0.0s\n",
            "[Parallel(n_jobs=2)]: Done   2 out of   2 | elapsed:    0.0s finished\n",
            "[Parallel(n_jobs=2)]: Using backend LokyBackend with 2 concurrent workers.\n",
            "[Parallel(n_jobs=2)]: Done   2 out of   2 | elapsed:    0.0s remaining:    0.0s\n",
            "[Parallel(n_jobs=2)]: Done   2 out of   2 | elapsed:    0.0s finished\n",
            "[Parallel(n_jobs=2)]: Using backend LokyBackend with 2 concurrent workers.\n",
            "[Parallel(n_jobs=2)]: Done   2 out of   2 | elapsed:    0.0s remaining:    0.0s\n",
            "[Parallel(n_jobs=2)]: Done   2 out of   2 | elapsed:    0.0s finished\n",
            "[Parallel(n_jobs=2)]: Using backend LokyBackend with 2 concurrent workers.\n",
            "[Parallel(n_jobs=2)]: Done   2 out of   2 | elapsed:    0.0s remaining:    0.0s\n",
            "[Parallel(n_jobs=2)]: Done   2 out of   2 | elapsed:    0.0s finished\n",
            "[Parallel(n_jobs=2)]: Using backend LokyBackend with 2 concurrent workers.\n",
            "[Parallel(n_jobs=2)]: Done   2 out of   2 | elapsed:    0.0s remaining:    0.0s\n",
            "[Parallel(n_jobs=2)]: Done   2 out of   2 | elapsed:    0.0s finished\n",
            "[Parallel(n_jobs=2)]: Using backend LokyBackend with 2 concurrent workers.\n",
            "[Parallel(n_jobs=2)]: Done   2 out of   2 | elapsed:    0.0s remaining:    0.0s\n",
            "[Parallel(n_jobs=2)]: Done   2 out of   2 | elapsed:    0.0s finished\n",
            "[Parallel(n_jobs=2)]: Using backend LokyBackend with 2 concurrent workers.\n",
            "[Parallel(n_jobs=2)]: Done   2 out of   2 | elapsed:    0.0s remaining:    0.0s\n",
            "[Parallel(n_jobs=2)]: Done   2 out of   2 | elapsed:    0.0s finished\n",
            "[Parallel(n_jobs=2)]: Using backend LokyBackend with 2 concurrent workers.\n",
            "[Parallel(n_jobs=2)]: Done   2 out of   2 | elapsed:    0.1s remaining:    0.0s\n",
            "[Parallel(n_jobs=2)]: Done   2 out of   2 | elapsed:    0.1s finished\n",
            "[Parallel(n_jobs=2)]: Using backend LokyBackend with 2 concurrent workers.\n",
            "[Parallel(n_jobs=2)]: Done   2 out of   2 | elapsed:    0.1s remaining:    0.0s\n",
            "[Parallel(n_jobs=2)]: Done   2 out of   2 | elapsed:    0.1s finished\n",
            "[Parallel(n_jobs=2)]: Using backend LokyBackend with 2 concurrent workers.\n"
          ],
          "name": "stderr"
        },
        {
          "output_type": "stream",
          "text": [
            "iteration: 30 of max_iter: 100, perplexity: 37.7491\n",
            "iteration: 31 of max_iter: 100\n",
            "iteration: 32 of max_iter: 100\n",
            "iteration: 33 of max_iter: 100\n",
            "iteration: 34 of max_iter: 100\n",
            "iteration: 35 of max_iter: 100, perplexity: 37.7410\n"
          ],
          "name": "stdout"
        },
        {
          "output_type": "stream",
          "text": [
            "[Parallel(n_jobs=2)]: Done   2 out of   2 | elapsed:    0.1s remaining:    0.0s\n",
            "[Parallel(n_jobs=2)]: Done   2 out of   2 | elapsed:    0.1s finished\n",
            "[Parallel(n_jobs=2)]: Using backend LokyBackend with 2 concurrent workers.\n",
            "[Parallel(n_jobs=2)]: Done   2 out of   2 | elapsed:    0.0s remaining:    0.0s\n",
            "[Parallel(n_jobs=2)]: Done   2 out of   2 | elapsed:    0.0s finished\n",
            "[Parallel(n_jobs=2)]: Using backend LokyBackend with 2 concurrent workers.\n",
            "[Parallel(n_jobs=2)]: Done   2 out of   2 | elapsed:    0.0s remaining:    0.0s\n",
            "[Parallel(n_jobs=2)]: Done   2 out of   2 | elapsed:    0.0s finished\n",
            "[Parallel(n_jobs=2)]: Using backend LokyBackend with 2 concurrent workers.\n",
            "[Parallel(n_jobs=2)]: Done   2 out of   2 | elapsed:    0.0s remaining:    0.0s\n",
            "[Parallel(n_jobs=2)]: Done   2 out of   2 | elapsed:    0.0s finished\n"
          ],
          "name": "stderr"
        },
        {
          "output_type": "execute_result",
          "data": {
            "text/plain": [
              "LatentDirichletAllocation(batch_size=128, doc_topic_prior=None,\n",
              "                          evaluate_every=5, learning_decay=0.7,\n",
              "                          learning_method='batch', learning_offset=10.0,\n",
              "                          max_doc_update_iter=100, max_iter=100,\n",
              "                          mean_change_tol=0.001, n_components=10, n_jobs=2,\n",
              "                          perp_tol=0.1, random_state=None,\n",
              "                          topic_word_prior=None, total_samples=1000000.0,\n",
              "                          verbose=2)"
            ]
          },
          "metadata": {
            "tags": []
          },
          "execution_count": 95
        }
      ]
    },
    {
      "cell_type": "code",
      "metadata": {
        "id": "Pyy5eMBuTs_j"
      },
      "source": [
        "from pdtext.tm import topic_words"
      ],
      "execution_count": 98,
      "outputs": []
    },
    {
      "cell_type": "code",
      "metadata": {
        "colab": {
          "base_uri": "https://localhost:8080/",
          "height": 363
        },
        "id": "iP66_3nTT1Zz",
        "outputId": "f78774be-7c4e-49b5-8155-cade59542a7e"
      },
      "source": [
        "topic_df = topic_words(lda_model, vect)\n",
        "topic_df.head(10)"
      ],
      "execution_count": 99,
      "outputs": [
        {
          "output_type": "execute_result",
          "data": {
            "text/html": [
              "<div>\n",
              "<style scoped>\n",
              "    .dataframe tbody tr th:only-of-type {\n",
              "        vertical-align: middle;\n",
              "    }\n",
              "\n",
              "    .dataframe tbody tr th {\n",
              "        vertical-align: top;\n",
              "    }\n",
              "\n",
              "    .dataframe thead th {\n",
              "        text-align: right;\n",
              "    }\n",
              "</style>\n",
              "<table border=\"1\" class=\"dataframe\">\n",
              "  <thead>\n",
              "    <tr style=\"text-align: right;\">\n",
              "      <th></th>\n",
              "      <th>1</th>\n",
              "      <th>2</th>\n",
              "      <th>3</th>\n",
              "      <th>4</th>\n",
              "      <th>5</th>\n",
              "      <th>6</th>\n",
              "      <th>7</th>\n",
              "      <th>8</th>\n",
              "      <th>9</th>\n",
              "      <th>10</th>\n",
              "    </tr>\n",
              "  </thead>\n",
              "  <tbody>\n",
              "    <tr>\n",
              "      <th>Topic 1</th>\n",
              "      <td>canon</td>\n",
              "      <td>new</td>\n",
              "      <td>introduction</td>\n",
              "      <td>aps</td>\n",
              "      <td>camera</td>\n",
              "      <td>range</td>\n",
              "      <td>12</td>\n",
              "      <td>iso</td>\n",
              "      <td>image</td>\n",
              "      <td>first</td>\n",
              "    </tr>\n",
              "    <tr>\n",
              "      <th>Topic 2</th>\n",
              "      <td>mpix</td>\n",
              "      <td>model</td>\n",
              "      <td>new</td>\n",
              "      <td>introduction</td>\n",
              "      <td>features</td>\n",
              "      <td>inch</td>\n",
              "      <td>cmos</td>\n",
              "      <td>models</td>\n",
              "      <td>body</td>\n",
              "      <td>24</td>\n",
              "    </tr>\n",
              "    <tr>\n",
              "      <th>Topic 3</th>\n",
              "      <td>high</td>\n",
              "      <td>camera</td>\n",
              "      <td>aps</td>\n",
              "      <td>new</td>\n",
              "      <td>first</td>\n",
              "      <td>one</td>\n",
              "      <td>resolution</td>\n",
              "      <td>features</td>\n",
              "      <td>mpix</td>\n",
              "      <td>24</td>\n",
              "    </tr>\n",
              "    <tr>\n",
              "      <th>Topic 4</th>\n",
              "      <td>af</td>\n",
              "      <td>system</td>\n",
              "      <td>features</td>\n",
              "      <td>also</td>\n",
              "      <td>body</td>\n",
              "      <td>camera</td>\n",
              "      <td>model</td>\n",
              "      <td>12</td>\n",
              "      <td>cmos</td>\n",
              "      <td>type</td>\n",
              "    </tr>\n",
              "    <tr>\n",
              "      <th>Topic 5</th>\n",
              "      <td>sony</td>\n",
              "      <td>new</td>\n",
              "      <td>aps</td>\n",
              "      <td>camera</td>\n",
              "      <td>cameras</td>\n",
              "      <td>range</td>\n",
              "      <td>also</td>\n",
              "      <td>body</td>\n",
              "      <td>system</td>\n",
              "      <td>24</td>\n",
              "    </tr>\n",
              "    <tr>\n",
              "      <th>Topic 6</th>\n",
              "      <td>iso</td>\n",
              "      <td>dxomark</td>\n",
              "      <td>low</td>\n",
              "      <td>light</td>\n",
              "      <td>range</td>\n",
              "      <td>cameras</td>\n",
              "      <td>performance</td>\n",
              "      <td>aps</td>\n",
              "      <td>one</td>\n",
              "      <td>high</td>\n",
              "    </tr>\n",
              "    <tr>\n",
              "      <th>Topic 7</th>\n",
              "      <td>nikon</td>\n",
              "      <td>new</td>\n",
              "      <td>range</td>\n",
              "      <td>low</td>\n",
              "      <td>first</td>\n",
              "      <td>model</td>\n",
              "      <td>camera</td>\n",
              "      <td>image</td>\n",
              "      <td>24</td>\n",
              "      <td>features</td>\n",
              "    </tr>\n",
              "    <tr>\n",
              "      <th>Topic 8</th>\n",
              "      <td>full</td>\n",
              "      <td>frame</td>\n",
              "      <td>resolution</td>\n",
              "      <td>24</td>\n",
              "      <td>cmos</td>\n",
              "      <td>camera</td>\n",
              "      <td>features</td>\n",
              "      <td>high</td>\n",
              "      <td>first</td>\n",
              "      <td>12</td>\n",
              "    </tr>\n",
              "    <tr>\n",
              "      <th>Topic 9</th>\n",
              "      <td>quality</td>\n",
              "      <td>image</td>\n",
              "      <td>compact</td>\n",
              "      <td>dxomark</td>\n",
              "      <td>introduction</td>\n",
              "      <td>camera</td>\n",
              "      <td>sensitivity</td>\n",
              "      <td>cameras</td>\n",
              "      <td>one</td>\n",
              "      <td>new</td>\n",
              "    </tr>\n",
              "    <tr>\n",
              "      <th>Topic 10</th>\n",
              "      <td>compact</td>\n",
              "      <td>lens</td>\n",
              "      <td>camera</td>\n",
              "      <td>high</td>\n",
              "      <td>type</td>\n",
              "      <td>12</td>\n",
              "      <td>introduction</td>\n",
              "      <td>range</td>\n",
              "      <td>cmos</td>\n",
              "      <td>sensitivity</td>\n",
              "    </tr>\n",
              "  </tbody>\n",
              "</table>\n",
              "</div>"
            ],
            "text/plain": [
              "               1        2             3   ...        8       9            10\n",
              "Topic 1     canon      new  introduction  ...       iso   image        first\n",
              "Topic 2      mpix    model           new  ...    models    body           24\n",
              "Topic 3      high   camera           aps  ...  features    mpix           24\n",
              "Topic 4        af   system      features  ...        12    cmos         type\n",
              "Topic 5      sony      new           aps  ...      body  system           24\n",
              "Topic 6       iso  dxomark           low  ...       aps     one         high\n",
              "Topic 7     nikon      new         range  ...     image      24     features\n",
              "Topic 8      full    frame    resolution  ...      high   first           12\n",
              "Topic 9   quality    image       compact  ...   cameras     one          new\n",
              "Topic 10  compact     lens        camera  ...     range    cmos  sensitivity\n",
              "\n",
              "[10 rows x 10 columns]"
            ]
          },
          "metadata": {
            "tags": []
          },
          "execution_count": 99
        }
      ]
    },
    {
      "cell_type": "code",
      "metadata": {
        "colab": {
          "base_uri": "https://localhost:8080/"
        },
        "id": "ElYGsyDKT6wl",
        "outputId": "b95a136c-d87e-433a-8c00-ca76f27059de"
      },
      "source": [
        "topic_predictions = lda_model.transform(tf)"
      ],
      "execution_count": 100,
      "outputs": [
        {
          "output_type": "stream",
          "text": [
            "[Parallel(n_jobs=2)]: Using backend LokyBackend with 2 concurrent workers.\n",
            "[Parallel(n_jobs=2)]: Done   2 out of   2 | elapsed:    0.0s remaining:    0.0s\n",
            "[Parallel(n_jobs=2)]: Done   2 out of   2 | elapsed:    0.1s finished\n"
          ],
          "name": "stderr"
        }
      ]
    },
    {
      "cell_type": "code",
      "metadata": {
        "id": "ViDZEzGXT85-"
      },
      "source": [
        "topic_predictions_df = pd.DataFrame(topic_predictions)"
      ],
      "execution_count": 101,
      "outputs": []
    },
    {
      "cell_type": "code",
      "metadata": {
        "colab": {
          "base_uri": "https://localhost:8080/",
          "height": 143
        },
        "id": "gA1xxq3wT9_H",
        "outputId": "531be532-f780-44db-eda6-ebfabfd4a047"
      },
      "source": [
        "topic_predictions_df.groupby(df['rating']).mean()"
      ],
      "execution_count": 102,
      "outputs": [
        {
          "output_type": "execute_result",
          "data": {
            "text/html": [
              "<div>\n",
              "<style scoped>\n",
              "    .dataframe tbody tr th:only-of-type {\n",
              "        vertical-align: middle;\n",
              "    }\n",
              "\n",
              "    .dataframe tbody tr th {\n",
              "        vertical-align: top;\n",
              "    }\n",
              "\n",
              "    .dataframe thead th {\n",
              "        text-align: right;\n",
              "    }\n",
              "</style>\n",
              "<table border=\"1\" class=\"dataframe\">\n",
              "  <thead>\n",
              "    <tr style=\"text-align: right;\">\n",
              "      <th></th>\n",
              "      <th>0</th>\n",
              "      <th>1</th>\n",
              "      <th>2</th>\n",
              "      <th>3</th>\n",
              "      <th>4</th>\n",
              "      <th>5</th>\n",
              "      <th>6</th>\n",
              "      <th>7</th>\n",
              "      <th>8</th>\n",
              "      <th>9</th>\n",
              "    </tr>\n",
              "    <tr>\n",
              "      <th>rating</th>\n",
              "      <th></th>\n",
              "      <th></th>\n",
              "      <th></th>\n",
              "      <th></th>\n",
              "      <th></th>\n",
              "      <th></th>\n",
              "      <th></th>\n",
              "      <th></th>\n",
              "      <th></th>\n",
              "      <th></th>\n",
              "    </tr>\n",
              "  </thead>\n",
              "  <tbody>\n",
              "    <tr>\n",
              "      <th>high</th>\n",
              "      <td>0.067427</td>\n",
              "      <td>0.185402</td>\n",
              "      <td>0.133850</td>\n",
              "      <td>0.104177</td>\n",
              "      <td>0.109584</td>\n",
              "      <td>0.114250</td>\n",
              "      <td>0.067357</td>\n",
              "      <td>0.109018</td>\n",
              "      <td>0.047608</td>\n",
              "      <td>0.061327</td>\n",
              "    </tr>\n",
              "    <tr>\n",
              "      <th>low</th>\n",
              "      <td>0.113541</td>\n",
              "      <td>0.213607</td>\n",
              "      <td>0.069523</td>\n",
              "      <td>0.044507</td>\n",
              "      <td>0.028501</td>\n",
              "      <td>0.145839</td>\n",
              "      <td>0.104302</td>\n",
              "      <td>0.035153</td>\n",
              "      <td>0.073637</td>\n",
              "      <td>0.171390</td>\n",
              "    </tr>\n",
              "  </tbody>\n",
              "</table>\n",
              "</div>"
            ],
            "text/plain": [
              "               0         1         2  ...         7         8         9\n",
              "rating                                ...                              \n",
              "high    0.067427  0.185402  0.133850  ...  0.109018  0.047608  0.061327\n",
              "low     0.113541  0.213607  0.069523  ...  0.035153  0.073637  0.171390\n",
              "\n",
              "[2 rows x 10 columns]"
            ]
          },
          "metadata": {
            "tags": []
          },
          "execution_count": 102
        }
      ]
    },
    {
      "cell_type": "markdown",
      "metadata": {
        "id": "31wdxtdvutEF"
      },
      "source": [
        "Here we get the pecentage of the 10 topics in the two rating groups."
      ]
    },
    {
      "cell_type": "markdown",
      "metadata": {
        "id": "EGHvvUvLUHh5"
      },
      "source": [
        "##### Fit the logestic model(words)"
      ]
    },
    {
      "cell_type": "code",
      "metadata": {
        "id": "KrW6GGVONoNk"
      },
      "source": [
        "from nltk.corpus import stopwords\n",
        "nltk_stops = stopwords.words('english')"
      ],
      "execution_count": 23,
      "outputs": []
    },
    {
      "cell_type": "code",
      "metadata": {
        "id": "RBn7kqmXNaOB"
      },
      "source": [
        "lr_classifier = LogisticRegression(max_iter=1000)\n",
        "vectorizer = CountVectorizer(lowercase   = True,\n",
        "                             ngram_range = (1,1),\n",
        "                             min_df=40,\n",
        "                             stop_words = nltk_stops,\n",
        "                             max_features=1000)"
      ],
      "execution_count": 136,
      "outputs": []
    },
    {
      "cell_type": "code",
      "metadata": {
        "colab": {
          "base_uri": "https://localhost:8080/"
        },
        "id": "KzFd2DaCN-N4",
        "outputId": "7c1f1c56-5ae3-4572-dbe6-0777ad33c923"
      },
      "source": [
        "vectorizer.fit(train['reviews'])\n",
        "train_tf = vectorizer.transform(train['reviews'])\n",
        "lr_classifier.fit(train_tf, train['rating'])"
      ],
      "execution_count": 232,
      "outputs": [
        {
          "output_type": "execute_result",
          "data": {
            "text/plain": [
              "LogisticRegression(C=1.0, class_weight=None, dual=False, fit_intercept=True,\n",
              "                   intercept_scaling=1, l1_ratio=None, max_iter=1000,\n",
              "                   multi_class='auto', n_jobs=None, penalty='l2',\n",
              "                   random_state=None, solver='lbfgs', tol=0.0001, verbose=0,\n",
              "                   warm_start=False)"
            ]
          },
          "metadata": {
            "tags": []
          },
          "execution_count": 232
        }
      ]
    },
    {
      "cell_type": "code",
      "metadata": {
        "id": "1GMy50PObihh"
      },
      "source": [
        "train_tf = vectorizer.transform(train['reviews'])\n",
        "train_pred = lr_classifier.predict(train_tf)"
      ],
      "execution_count": 233,
      "outputs": []
    },
    {
      "cell_type": "code",
      "metadata": {
        "id": "c0dIiIlKOPxj"
      },
      "source": [
        "test_tf = vectorizer.transform(test['reviews'])\n",
        "test_pred = lr_classifier.predict(test_tf)"
      ],
      "execution_count": 234,
      "outputs": []
    },
    {
      "cell_type": "code",
      "metadata": {
        "id": "DdMVmvUoOVQy"
      },
      "source": [
        "pipeline = Pipeline([\n",
        "                     ('vectorizer' , CountVectorizer(stop_words=nltk_stops)),\n",
        "                     ('classifier' , LogisticRegression(max_iter=1000))\n",
        "                    ])\n",
        "\n",
        "parameters = {'vectorizer__max_df' : [.5, .6, .7 ],\n",
        "              'vectorizer__min_df' : [20, .005, .01, .02],         \n",
        "               }"
      ],
      "execution_count": 139,
      "outputs": []
    },
    {
      "cell_type": "markdown",
      "metadata": {
        "id": "heMZYrfAu9hg"
      },
      "source": [
        "Here we build three models with different parameters."
      ]
    },
    {
      "cell_type": "code",
      "metadata": {
        "id": "HtQyUoVROYoK"
      },
      "source": [
        "grid_search = GridSearchCV(pipeline,\n",
        "                           parameters,\n",
        "                           n_jobs = -1,\n",
        "                           cv = 3,\n",
        "                           verbose = 2)"
      ],
      "execution_count": 126,
      "outputs": []
    },
    {
      "cell_type": "code",
      "metadata": {
        "colab": {
          "base_uri": "https://localhost:8080/"
        },
        "id": "VQLgxlVuOZoI",
        "outputId": "182fefc4-f817-442f-c097-362a80951249"
      },
      "source": [
        "grid_search.fit(train['reviews'],\n",
        "                train['rating'])"
      ],
      "execution_count": 127,
      "outputs": [
        {
          "output_type": "stream",
          "text": [
            "Fitting 3 folds for each of 12 candidates, totalling 36 fits\n"
          ],
          "name": "stdout"
        },
        {
          "output_type": "stream",
          "text": [
            "[Parallel(n_jobs=-1)]: Using backend LokyBackend with 2 concurrent workers.\n",
            "[Parallel(n_jobs=-1)]: Done  36 out of  36 | elapsed:    2.3s finished\n"
          ],
          "name": "stderr"
        },
        {
          "output_type": "execute_result",
          "data": {
            "text/plain": [
              "GridSearchCV(cv=3, error_score=nan,\n",
              "             estimator=Pipeline(memory=None,\n",
              "                                steps=[('vectorizer',\n",
              "                                        CountVectorizer(analyzer='word',\n",
              "                                                        binary=False,\n",
              "                                                        decode_error='strict',\n",
              "                                                        dtype=<class 'numpy.int64'>,\n",
              "                                                        encoding='utf-8',\n",
              "                                                        input='content',\n",
              "                                                        lowercase=True,\n",
              "                                                        max_df=1.0,\n",
              "                                                        max_features=None,\n",
              "                                                        min_df=1,\n",
              "                                                        ngram_range=(1, 1),\n",
              "                                                        preprocessor=None,\n",
              "                                                        stop_words=['i', 'me',\n",
              "                                                                    'my',\n",
              "                                                                    'myself',\n",
              "                                                                    'we', 'our',\n",
              "                                                                    'o...\n",
              "                                                           l1_ratio=None,\n",
              "                                                           max_iter=1000,\n",
              "                                                           multi_class='auto',\n",
              "                                                           n_jobs=None,\n",
              "                                                           penalty='l2',\n",
              "                                                           random_state=None,\n",
              "                                                           solver='lbfgs',\n",
              "                                                           tol=0.0001,\n",
              "                                                           verbose=0,\n",
              "                                                           warm_start=False))],\n",
              "                                verbose=False),\n",
              "             iid='deprecated', n_jobs=-1,\n",
              "             param_grid={'vectorizer__max_df': [0.5, 0.6, 0.7],\n",
              "                         'vectorizer__min_df': [20, 0.005, 0.01, 0.02]},\n",
              "             pre_dispatch='2*n_jobs', refit=True, return_train_score=False,\n",
              "             scoring=None, verbose=2)"
            ]
          },
          "metadata": {
            "tags": []
          },
          "execution_count": 127
        }
      ]
    },
    {
      "cell_type": "code",
      "metadata": {
        "id": "_YKMxCaTTCix"
      },
      "source": [
        "best_pipe = grid_search.best_estimator_\n",
        "test_pred = best_pipe.predict(test['reviews'])"
      ],
      "execution_count": 128,
      "outputs": []
    },
    {
      "cell_type": "code",
      "metadata": {
        "colab": {
          "base_uri": "https://localhost:8080/"
        },
        "id": "oRYxceWVTHp_",
        "outputId": "e946fac8-675b-4362-b2b3-a7f4001aa826"
      },
      "source": [
        "print(classification_report(test['rating'],\n",
        "                            test_pred))"
      ],
      "execution_count": 129,
      "outputs": [
        {
          "output_type": "stream",
          "text": [
            "              precision    recall  f1-score   support\n",
            "\n",
            "        high       0.79      0.93      0.85        28\n",
            "         low       0.86      0.63      0.73        19\n",
            "\n",
            "    accuracy                           0.81        47\n",
            "   macro avg       0.82      0.78      0.79        47\n",
            "weighted avg       0.82      0.81      0.80        47\n",
            "\n"
          ],
          "name": "stdout"
        }
      ]
    },
    {
      "cell_type": "markdown",
      "metadata": {
        "id": "NIH0lQnjvEVG"
      },
      "source": [
        "The accuracy of the best one among these three models is 0.82, which is a satisfactory value."
      ]
    },
    {
      "cell_type": "markdown",
      "metadata": {
        "id": "uqEjjIAmoeVw"
      },
      "source": [
        "##### Fit the logestic model(topic)\n",
        "Using vectorized topics as predictor, we built a another logestic model."
      ]
    },
    {
      "cell_type": "code",
      "metadata": {
        "colab": {
          "base_uri": "https://localhost:8080/"
        },
        "id": "8L0vYywwULT1",
        "outputId": "8835e963-2342-448d-9f54-6fbcf8099d21"
      },
      "source": [
        "train_topics = lda_model.transform(vect.transform(train['reviews']))"
      ],
      "execution_count": 130,
      "outputs": [
        {
          "output_type": "stream",
          "text": [
            "[Parallel(n_jobs=2)]: Using backend LokyBackend with 2 concurrent workers.\n",
            "[Parallel(n_jobs=2)]: Done   2 out of   2 | elapsed:    0.0s remaining:    0.0s\n",
            "[Parallel(n_jobs=2)]: Done   2 out of   2 | elapsed:    0.0s finished\n"
          ],
          "name": "stderr"
        }
      ]
    },
    {
      "cell_type": "code",
      "metadata": {
        "colab": {
          "base_uri": "https://localhost:8080/"
        },
        "id": "4SwEg5d3UQ9C",
        "outputId": "2bc15221-d361-46ec-e2d6-2152b87a3571"
      },
      "source": [
        "lr_classifier.fit(train_topics, train['rating'])"
      ],
      "execution_count": 131,
      "outputs": [
        {
          "output_type": "execute_result",
          "data": {
            "text/plain": [
              "LogisticRegression(C=1.0, class_weight=None, dual=False, fit_intercept=True,\n",
              "                   intercept_scaling=1, l1_ratio=None, max_iter=1000,\n",
              "                   multi_class='auto', n_jobs=None, penalty='l2',\n",
              "                   random_state=None, solver='lbfgs', tol=0.0001, verbose=0,\n",
              "                   warm_start=False)"
            ]
          },
          "metadata": {
            "tags": []
          },
          "execution_count": 131
        }
      ]
    },
    {
      "cell_type": "code",
      "metadata": {
        "colab": {
          "base_uri": "https://localhost:8080/"
        },
        "id": "2l2r4a6fUU5f",
        "outputId": "8e7af9ca-4d79-4bbf-cbb6-9f6b72e5aad4"
      },
      "source": [
        "test_topics = lda_model.transform(vect.transform(test['reviews']))\n",
        "test_prediction = lr_classifier.predict(test_topics)"
      ],
      "execution_count": 132,
      "outputs": [
        {
          "output_type": "stream",
          "text": [
            "[Parallel(n_jobs=2)]: Using backend LokyBackend with 2 concurrent workers.\n",
            "[Parallel(n_jobs=2)]: Done   2 out of   2 | elapsed:    0.0s remaining:    0.0s\n",
            "[Parallel(n_jobs=2)]: Done   2 out of   2 | elapsed:    0.0s finished\n"
          ],
          "name": "stderr"
        }
      ]
    },
    {
      "cell_type": "code",
      "metadata": {
        "colab": {
          "base_uri": "https://localhost:8080/"
        },
        "id": "HxD8DG6VUYgG",
        "outputId": "0a747e4b-2bfc-4fe5-ce66-ce2aec7961e2"
      },
      "source": [
        "print(classification_report(test['rating'],\n",
        "                            test_prediction))"
      ],
      "execution_count": 133,
      "outputs": [
        {
          "output_type": "stream",
          "text": [
            "              precision    recall  f1-score   support\n",
            "\n",
            "        high       0.61      1.00      0.76        28\n",
            "         low       1.00      0.05      0.10        19\n",
            "\n",
            "    accuracy                           0.62        47\n",
            "   macro avg       0.80      0.53      0.43        47\n",
            "weighted avg       0.77      0.62      0.49        47\n",
            "\n"
          ],
          "name": "stdout"
        }
      ]
    },
    {
      "cell_type": "markdown",
      "metadata": {
        "id": "s9B4roQtvkDN"
      },
      "source": [
        "The accuracy is a bit lower than that of the former model."
      ]
    },
    {
      "cell_type": "markdown",
      "metadata": {
        "id": "aZMyxg7OopNT"
      },
      "source": [
        "##### Conclusion"
      ]
    },
    {
      "cell_type": "code",
      "metadata": {
        "colab": {
          "base_uri": "https://localhost:8080/"
        },
        "id": "DTLMUtb1VPca",
        "outputId": "96874553-a22a-489b-b4e1-bf4a3d92c05d"
      },
      "source": [
        "coeficients = pd.Series(lr_classifier.coef_[0],\n",
        "                        index = vectorizer.get_feature_names())\n",
        "coeficients.sort_values(ascending=True)[:25]"
      ],
      "execution_count": 140,
      "outputs": [
        {
          "output_type": "execute_result",
          "data": {
            "text/plain": [
              "full           -1.115639\n",
              "aps            -1.002620\n",
              "24             -0.960484\n",
              "features       -0.891961\n",
              "sony           -0.766143\n",
              "new            -0.518112\n",
              "review         -0.511369\n",
              "frame          -0.475869\n",
              "low            -0.415126\n",
              "resolution     -0.369039\n",
              "cameras        -0.286699\n",
              "camera         -0.172706\n",
              "range          -0.167869\n",
              "mpix           -0.068598\n",
              "model           0.010667\n",
              "sensor          0.051000\n",
              "iso             0.090233\n",
              "introduction    0.171158\n",
              "cmos            0.235407\n",
              "nikon           0.311234\n",
              "image           0.332051\n",
              "also            0.359265\n",
              "canon           0.458038\n",
              "high            0.492898\n",
              "lens            0.677976\n",
              "dtype: float64"
            ]
          },
          "metadata": {
            "tags": []
          },
          "execution_count": 140
        }
      ]
    },
    {
      "cell_type": "code",
      "metadata": {
        "colab": {
          "base_uri": "https://localhost:8080/"
        },
        "id": "X40eCiA9XwpY",
        "outputId": "8879f361-d6ab-4c09-e948-2a71a19a5765"
      },
      "source": [
        "coeficients.sort_values(ascending=False)[:25]"
      ],
      "execution_count": 141,
      "outputs": [
        {
          "output_type": "execute_result",
          "data": {
            "text/plain": [
              "compact         0.826710\n",
              "lens            0.677976\n",
              "high            0.492898\n",
              "canon           0.458038\n",
              "also            0.359265\n",
              "image           0.332051\n",
              "nikon           0.311234\n",
              "cmos            0.235407\n",
              "introduction    0.171158\n",
              "iso             0.090233\n",
              "sensor          0.051000\n",
              "model           0.010667\n",
              "mpix           -0.068598\n",
              "range          -0.167869\n",
              "camera         -0.172706\n",
              "cameras        -0.286699\n",
              "resolution     -0.369039\n",
              "low            -0.415126\n",
              "frame          -0.475869\n",
              "review         -0.511369\n",
              "new            -0.518112\n",
              "sony           -0.766143\n",
              "features       -0.891961\n",
              "24             -0.960484\n",
              "aps            -1.002620\n",
              "dtype: float64"
            ]
          },
          "metadata": {
            "tags": []
          },
          "execution_count": 141
        }
      ]
    },
    {
      "cell_type": "markdown",
      "metadata": {
        "id": "dAay1FPBvzoN"
      },
      "source": [
        "Here we get the coefficients of the best logestic model(using words). The word with highest coefficient is 'impact', which indicates that the weight of a camera can significant effect the comments.\n",
        "\n",
        " Another interesting thing is that 'sony' has a really significantly negative coefficient, while 'canon' and 'nikon' have postive coefficients. All these three words are the bands of cameras.\n",
        "\n",
        " Then a heatmap about the training data is drew to have a overview of the model."
      ]
    },
    {
      "cell_type": "code",
      "metadata": {
        "colab": {
          "base_uri": "https://localhost:8080/",
          "height": 283
        },
        "id": "zTzrncfYbIXv",
        "outputId": "6dcb2fd5-e4a5-4e96-cdf7-41af4b8d96bb"
      },
      "source": [
        "cm1 = confusion_matrix(train['rating'], train_pred)\n",
        "sns.heatmap(cm1, annot=True, cmap=\"Greens\", fmt='g')"
      ],
      "execution_count": 182,
      "outputs": [
        {
          "output_type": "execute_result",
          "data": {
            "text/plain": [
              "<matplotlib.axes._subplots.AxesSubplot at 0x7fd60e1b0050>"
            ]
          },
          "metadata": {
            "tags": []
          },
          "execution_count": 182
        },
        {
          "output_type": "display_data",
          "data": {
            "image/png": "[encoded data removed]",
            "text/plain": [
              "<Figure size 432x288 with 2 Axes>"
            ]
          },
          "metadata": {
            "tags": [],
            "needs_background": "light"
          }
        }
      ]
    },
    {
      "cell_type": "markdown",
      "metadata": {
        "id": "3NM1q3QSX8vO"
      },
      "source": [
        "#### K-NN Model"
      ]
    },
    {
      "cell_type": "code",
      "metadata": {
        "id": "Zpvl7g_cYCwT"
      },
      "source": [
        "from sklearn.neighbors import KNeighborsClassifier\n",
        "from sklearn.feature_extraction.text import TfidfVectorizer\n",
        "from sklearn.model_selection import GridSearchCV"
      ],
      "execution_count": 149,
      "outputs": []
    },
    {
      "cell_type": "markdown",
      "metadata": {
        "id": "2FItyQNLyFYM"
      },
      "source": [
        "Several KNN models are built to select a better one."
      ]
    },
    {
      "cell_type": "code",
      "metadata": {
        "id": "XjYM0qFgYE7L"
      },
      "source": [
        "parameters2 = {'n_neighbors' : [1,3,5],\n",
        "              'weights'      : ['distance', 'uniform']}\n",
        "grid2 = GridSearchCV(KNeighborsClassifier(), \n",
        "                    parameters2, \n",
        "                    cv = 3,\n",
        "                    n_jobs = -1,\n",
        "                   verbose = 2)"
      ],
      "execution_count": 166,
      "outputs": []
    },
    {
      "cell_type": "code",
      "metadata": {
        "id": "8jSBGZvQYIAV"
      },
      "source": [
        "tf_vector=TfidfVectorizer()"
      ],
      "execution_count": 157,
      "outputs": []
    },
    {
      "cell_type": "code",
      "metadata": {
        "colab": {
          "base_uri": "https://localhost:8080/"
        },
        "id": "1XHKcYdBZw82",
        "outputId": "51d3e74c-2c66-4a42-be0e-1ba623d4fec5"
      },
      "source": [
        "tf_vector.fit(train['reviews'])"
      ],
      "execution_count": 158,
      "outputs": [
        {
          "output_type": "execute_result",
          "data": {
            "text/plain": [
              "TfidfVectorizer(analyzer='word', binary=False, decode_error='strict',\n",
              "                dtype=<class 'numpy.float64'>, encoding='utf-8',\n",
              "                input='content', lowercase=True, max_df=1.0, max_features=None,\n",
              "                min_df=1, ngram_range=(1, 1), norm='l2', preprocessor=None,\n",
              "                smooth_idf=True, stop_words=None, strip_accents=None,\n",
              "                sublinear_tf=False, token_pattern='(?u)\\\\b\\\\w\\\\w+\\\\b',\n",
              "                tokenizer=None, use_idf=True, vocabulary=None)"
            ]
          },
          "metadata": {
            "tags": []
          },
          "execution_count": 158
        }
      ]
    },
    {
      "cell_type": "code",
      "metadata": {
        "id": "n9tKyGKzZjDa"
      },
      "source": [
        "train_tfidf = tf_vector.transform(train['reviews'])"
      ],
      "execution_count": 235,
      "outputs": []
    },
    {
      "cell_type": "code",
      "metadata": {
        "colab": {
          "base_uri": "https://localhost:8080/"
        },
        "id": "zVGFsCKpZ2rE",
        "outputId": "b3af0ed6-e0d3-43e2-d8ad-4567afe6468d"
      },
      "source": [
        "grid2.fit(train_tfidf,train['rating'])"
      ],
      "execution_count": 236,
      "outputs": [
        {
          "output_type": "stream",
          "text": [
            "Fitting 3 folds for each of 6 candidates, totalling 18 fits\n"
          ],
          "name": "stdout"
        },
        {
          "output_type": "stream",
          "text": [
            "[Parallel(n_jobs=-1)]: Using backend LokyBackend with 2 concurrent workers.\n",
            "[Parallel(n_jobs=-1)]: Done  18 out of  18 | elapsed:    1.1s finished\n"
          ],
          "name": "stderr"
        },
        {
          "output_type": "execute_result",
          "data": {
            "text/plain": [
              "GridSearchCV(cv=3, error_score=nan,\n",
              "             estimator=KNeighborsClassifier(algorithm='auto', leaf_size=30,\n",
              "                                            metric='minkowski',\n",
              "                                            metric_params=None, n_jobs=None,\n",
              "                                            n_neighbors=5, p=2,\n",
              "                                            weights='uniform'),\n",
              "             iid='deprecated', n_jobs=-1,\n",
              "             param_grid={'n_neighbors': [1, 3, 5],\n",
              "                         'weights': ['distance', 'uniform']},\n",
              "             pre_dispatch='2*n_jobs', refit=True, return_train_score=False,\n",
              "             scoring=None, verbose=2)"
            ]
          },
          "metadata": {
            "tags": []
          },
          "execution_count": 236
        }
      ]
    },
    {
      "cell_type": "code",
      "metadata": {
        "id": "AiuzF92QapPo"
      },
      "source": [
        "knn_prediction = grid2.predict(train_tfidf)"
      ],
      "execution_count": 237,
      "outputs": []
    },
    {
      "cell_type": "code",
      "metadata": {
        "colab": {
          "base_uri": "https://localhost:8080/"
        },
        "id": "qH3nmaAxas8i",
        "outputId": "28c9679e-6bb6-4101-bf7d-a5c7da0b70bc"
      },
      "source": [
        "grid2.best_score_"
      ],
      "execution_count": 171,
      "outputs": [
        {
          "output_type": "execute_result",
          "data": {
            "text/plain": [
              "0.8172043010752689"
            ]
          },
          "metadata": {
            "tags": []
          },
          "execution_count": 171
        }
      ]
    },
    {
      "cell_type": "code",
      "metadata": {
        "colab": {
          "base_uri": "https://localhost:8080/"
        },
        "id": "t-owXIhyavo-",
        "outputId": "54623ec5-5f9b-4a95-e2a8-cfecf732c754"
      },
      "source": [
        "grid2.best_estimator_"
      ],
      "execution_count": 173,
      "outputs": [
        {
          "output_type": "execute_result",
          "data": {
            "text/plain": [
              "KNeighborsClassifier(algorithm='auto', leaf_size=30, metric='minkowski',\n",
              "                     metric_params=None, n_jobs=None, n_neighbors=3, p=2,\n",
              "                     weights='distance')"
            ]
          },
          "metadata": {
            "tags": []
          },
          "execution_count": 173
        }
      ]
    },
    {
      "cell_type": "markdown",
      "metadata": {
        "id": "oyTTTVkLyR3O"
      },
      "source": [
        "Here we get the parameters of the better KNN model."
      ]
    },
    {
      "cell_type": "code",
      "metadata": {
        "colab": {
          "base_uri": "https://localhost:8080/"
        },
        "id": "By-_NLzjazul",
        "outputId": "33a6dc3d-adb0-4b7a-fdcd-ae67845c45ab"
      },
      "source": [
        "print(accuracy_score(test['rating'], \n",
        "                     grid2.best_estimator_.predict(tf_vector.transform(test['reviews']))))"
      ],
      "execution_count": 174,
      "outputs": [
        {
          "output_type": "stream",
          "text": [
            "0.851063829787234\n"
          ],
          "name": "stdout"
        }
      ]
    },
    {
      "cell_type": "code",
      "metadata": {
        "colab": {
          "base_uri": "https://localhost:8080/",
          "height": 283
        },
        "id": "2-0GcqAQa3w8",
        "outputId": "b9571693-babf-443f-89d6-64a568a39ca1"
      },
      "source": [
        "cm2 = confusion_matrix(train['rating'], knn_prediction)\n",
        "sns.heatmap(cm2, annot=True, cmap=\"Greens\", fmt='g')"
      ],
      "execution_count": 177,
      "outputs": [
        {
          "output_type": "execute_result",
          "data": {
            "text/plain": [
              "<matplotlib.axes._subplots.AxesSubplot at 0x7fd61697e750>"
            ]
          },
          "metadata": {
            "tags": []
          },
          "execution_count": 177
        },
        {
          "output_type": "display_data",
          "data": {
            "image/png": "[encoded data removed]",
            "text/plain": [
              "<Figure size 432x288 with 2 Axes>"
            ]
          },
          "metadata": {
            "tags": [],
            "needs_background": "light"
          }
        }
      ]
    },
    {
      "cell_type": "markdown",
      "metadata": {
        "id": "nbm2RLfJyZDq"
      },
      "source": [
        "Here is the accuracy and heatmap of the KNN model. It's obvious that logestic model preforms better."
      ]
    },
    {
      "cell_type": "markdown",
      "metadata": {
        "id": "1kwUDgRgcZg8"
      },
      "source": [
        "#### Machine Learning"
      ]
    },
    {
      "cell_type": "markdown",
      "metadata": {
        "id": "nIQso_9wjv4S"
      },
      "source": [
        "##### Random Forest"
      ]
    },
    {
      "cell_type": "code",
      "metadata": {
        "id": "1J2VtXgZcgLl"
      },
      "source": [
        "from sklearn.tree import DecisionTreeClassifier, plot_tree, export_text, export_graphviz\n",
        "from sklearn.ensemble import RandomForestClassifier, AdaBoostClassifier"
      ],
      "execution_count": 281,
      "outputs": []
    },
    {
      "cell_type": "code",
      "metadata": {
        "id": "UhmMB8vIckZs"
      },
      "source": [
        "rf_clf = RandomForestClassifier(max_depth =5, \n",
        "                                n_estimators=100)"
      ],
      "execution_count": 184,
      "outputs": []
    },
    {
      "cell_type": "code",
      "metadata": {
        "colab": {
          "base_uri": "https://localhost:8080/"
        },
        "id": "FL0zVyZpcnKf",
        "outputId": "a3a9656c-f6d1-4e01-ea24-38f209f71400"
      },
      "source": [
        "rf_clf.fit(train_tf, train['rating'])"
      ],
      "execution_count": 239,
      "outputs": [
        {
          "output_type": "execute_result",
          "data": {
            "text/plain": [
              "RandomForestClassifier(bootstrap=True, ccp_alpha=0.0, class_weight=None,\n",
              "                       criterion='gini', max_depth=5, max_features='auto',\n",
              "                       max_leaf_nodes=None, max_samples=None,\n",
              "                       min_impurity_decrease=0.0, min_impurity_split=None,\n",
              "                       min_samples_leaf=1, min_samples_split=2,\n",
              "                       min_weight_fraction_leaf=0.0, n_estimators=100,\n",
              "                       n_jobs=None, oob_score=False, random_state=None,\n",
              "                       verbose=0, warm_start=False)"
            ]
          },
          "metadata": {
            "tags": []
          },
          "execution_count": 239
        }
      ]
    },
    {
      "cell_type": "code",
      "metadata": {
        "colab": {
          "base_uri": "https://localhost:8080/"
        },
        "id": "Y0l8eIryjRmo",
        "outputId": "342e1d34-fb4e-498c-9ba5-af8f403fa8c7"
      },
      "source": [
        "print(\"train score: %.3f\" % rf_clf.score(train_tf, train['rating']))\n",
        "print(\"test score: %.3f\" % rf_clf.score(test_tf, test['rating']))"
      ],
      "execution_count": 240,
      "outputs": [
        {
          "output_type": "stream",
          "text": [
            "train score: 0.909\n",
            "test score: 0.830\n"
          ],
          "name": "stdout"
        }
      ]
    },
    {
      "cell_type": "markdown",
      "metadata": {
        "id": "ate_FRkN1glv"
      },
      "source": [
        "Both the train score and test score are satisfactory."
      ]
    },
    {
      "cell_type": "code",
      "metadata": {
        "id": "Hw-DHw7RjbFs"
      },
      "source": [
        "test_treepred = rf_clf.predict(test_tf)"
      ],
      "execution_count": 241,
      "outputs": []
    },
    {
      "cell_type": "code",
      "metadata": {
        "colab": {
          "base_uri": "https://localhost:8080/"
        },
        "id": "j9PFNGobjevR",
        "outputId": "2f0cf37f-b05b-4f03-8aa8-23f5ef802735"
      },
      "source": [
        "print(classification_report(test['rating'],\n",
        "                            test_treepred))\n"
      ],
      "execution_count": 242,
      "outputs": [
        {
          "output_type": "stream",
          "text": [
            "              precision    recall  f1-score   support\n",
            "\n",
            "        high       0.82      1.00      0.90        36\n",
            "         low       1.00      0.27      0.43        11\n",
            "\n",
            "    accuracy                           0.83        47\n",
            "   macro avg       0.91      0.64      0.66        47\n",
            "weighted avg       0.86      0.83      0.79        47\n",
            "\n"
          ],
          "name": "stdout"
        }
      ]
    },
    {
      "cell_type": "markdown",
      "metadata": {
        "id": "RYDfFFxUj4sf"
      },
      "source": [
        "##### Boosting"
      ]
    },
    {
      "cell_type": "code",
      "metadata": {
        "id": "F_W0SX-6kAWz"
      },
      "source": [
        "ab_clf = AdaBoostClassifier(DecisionTreeClassifier(max_depth=1),\n",
        "                            n_estimators=50)"
      ],
      "execution_count": 243,
      "outputs": []
    },
    {
      "cell_type": "markdown",
      "metadata": {
        "id": "vtRueAdJ1zkT"
      },
      "source": [
        "Here three boosting models are built to get a best one."
      ]
    },
    {
      "cell_type": "code",
      "metadata": {
        "id": "DD54FoM-kC_M"
      },
      "source": [
        "parametersB = {'base_estimator__max_depth':[30, 50 ],\n",
        "             'n_estimators' : [20, 40],\n",
        "             'learning_rate':[0.01,0.1] }\n",
        "\n",
        "ab_clf = AdaBoostClassifier(base_estimator=DecisionTreeClassifier())\n",
        "\n",
        "g_clf = GridSearchCV(ab_clf, parametersB, cv=3, n_jobs=-1, verbose=2)"
      ],
      "execution_count": 244,
      "outputs": []
    },
    {
      "cell_type": "code",
      "metadata": {
        "id": "spbExXQqkInT"
      },
      "source": [
        "train_tf = best_pipe['vectorizer'].transform(train['reviews'])"
      ],
      "execution_count": 246,
      "outputs": []
    },
    {
      "cell_type": "code",
      "metadata": {
        "colab": {
          "base_uri": "https://localhost:8080/"
        },
        "id": "O7HIuiC8kNJl",
        "outputId": "27d734a5-8a16-44fc-9d04-ff7ea021284b"
      },
      "source": [
        "g_clf.fit(train_tf,\n",
        "                train['rating'])"
      ],
      "execution_count": 247,
      "outputs": [
        {
          "output_type": "stream",
          "text": [
            "Fitting 3 folds for each of 8 candidates, totalling 24 fits\n"
          ],
          "name": "stdout"
        },
        {
          "output_type": "stream",
          "text": [
            "[Parallel(n_jobs=-1)]: Using backend LokyBackend with 2 concurrent workers.\n",
            "[Parallel(n_jobs=-1)]: Done  24 out of  24 | elapsed:    0.3s finished\n"
          ],
          "name": "stderr"
        },
        {
          "output_type": "execute_result",
          "data": {
            "text/plain": [
              "GridSearchCV(cv=3, error_score=nan,\n",
              "             estimator=AdaBoostClassifier(algorithm='SAMME.R',\n",
              "                                          base_estimator=DecisionTreeClassifier(ccp_alpha=0.0,\n",
              "                                                                                class_weight=None,\n",
              "                                                                                criterion='gini',\n",
              "                                                                                max_depth=None,\n",
              "                                                                                max_features=None,\n",
              "                                                                                max_leaf_nodes=None,\n",
              "                                                                                min_impurity_decrease=0.0,\n",
              "                                                                                min_impurity_split=None,\n",
              "                                                                                min_samples_leaf=1,\n",
              "                                                                                min_samples_split=2,\n",
              "                                                                                min_weight_fraction_leaf=0.0,\n",
              "                                                                                presort='deprecated',\n",
              "                                                                                random_state=None,\n",
              "                                                                                splitter='best'),\n",
              "                                          learning_rate=1.0, n_estimators=50,\n",
              "                                          random_state=None),\n",
              "             iid='deprecated', n_jobs=-1,\n",
              "             param_grid={'base_estimator__max_depth': [30, 50],\n",
              "                         'learning_rate': [0.01, 0.1],\n",
              "                         'n_estimators': [20, 40]},\n",
              "             pre_dispatch='2*n_jobs', refit=True, return_train_score=False,\n",
              "             scoring=None, verbose=2)"
            ]
          },
          "metadata": {
            "tags": []
          },
          "execution_count": 247
        }
      ]
    },
    {
      "cell_type": "code",
      "metadata": {
        "colab": {
          "base_uri": "https://localhost:8080/"
        },
        "id": "fLTt1935kRcB",
        "outputId": "6f7179c6-0ed8-40da-de7a-80b6d62e09f6"
      },
      "source": [
        "g_clf.best_params_"
      ],
      "execution_count": 248,
      "outputs": [
        {
          "output_type": "execute_result",
          "data": {
            "text/plain": [
              "{'base_estimator__max_depth': 30, 'learning_rate': 0.01, 'n_estimators': 20}"
            ]
          },
          "metadata": {
            "tags": []
          },
          "execution_count": 248
        }
      ]
    },
    {
      "cell_type": "markdown",
      "metadata": {
        "id": "eTnlZQVg2IUB"
      },
      "source": [
        "We find the best one among the three boosting models."
      ]
    },
    {
      "cell_type": "code",
      "metadata": {
        "id": "cVHvOxW0kUWU"
      },
      "source": [
        "best_ada= g_clf.best_estimator_\n",
        "test_tf = best_pipe['vectorizer'].transform(test['reviews'])\n",
        "ada_pred = g_clf.predict(test_tf)"
      ],
      "execution_count": 249,
      "outputs": []
    },
    {
      "cell_type": "code",
      "metadata": {
        "colab": {
          "base_uri": "https://localhost:8080/"
        },
        "id": "Wi6iwtxbkaET",
        "outputId": "d347c3c5-bc93-46f5-bb6b-f4925315f01a"
      },
      "source": [
        "print(classification_report(test['rating'],\n",
        "                            ada_pred))"
      ],
      "execution_count": 250,
      "outputs": [
        {
          "output_type": "stream",
          "text": [
            "              precision    recall  f1-score   support\n",
            "\n",
            "        high       0.83      0.69      0.76        36\n",
            "         low       0.35      0.55      0.43        11\n",
            "\n",
            "    accuracy                           0.66        47\n",
            "   macro avg       0.59      0.62      0.59        47\n",
            "weighted avg       0.72      0.66      0.68        47\n",
            "\n"
          ],
          "name": "stdout"
        }
      ]
    },
    {
      "cell_type": "markdown",
      "metadata": {
        "id": "DiELWNkc2qu5"
      },
      "source": [
        "The accuracy is lower than random forest models."
      ]
    },
    {
      "cell_type": "markdown",
      "metadata": {
        "id": "ssB7dnJZ2Z7X"
      },
      "source": [
        "## Conclusion\n",
        "Several models are built to predict the score of a carema using the reviews as predictor.\n",
        "The sentimental analysis is not working, which may caused by the objective attitude of the authors.\n",
        "Among the rest models, random forests model is the best one, which has a test score of 0.83."
      ]
    }
  ]
}